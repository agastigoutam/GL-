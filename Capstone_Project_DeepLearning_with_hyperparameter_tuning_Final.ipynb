{
  "nbformat": 4,
  "nbformat_minor": 0,
  "metadata": {
    "accelerator": "GPU",
    "colab": {
      "name": "Capstone_Project_DeepLearning_with_hyperparameter_tuning_Final.ipynb",
      "provenance": [],
      "collapsed_sections": [],
      "machine_shape": "hm"
    },
    "kernelspec": {
      "display_name": "Python 3",
      "language": "python",
      "name": "python3"
    },
    "language_info": {
      "codemirror_mode": {
        "name": "ipython",
        "version": 3
      },
      "file_extension": ".py",
      "mimetype": "text/x-python",
      "name": "python",
      "nbconvert_exporter": "python",
      "pygments_lexer": "ipython3",
      "version": "3.8.5"
    }
  },
  "cells": [
    {
      "cell_type": "markdown",
      "metadata": {
        "id": "1MS1iqVhT167"
      },
      "source": [
        "**The problem Statment**\n",
        "\n",
        "The  database  comes  from one  of  the  biggest  industry  in  Brazil  and  in  the  world.  It  is  an  urgent  need  for  industries/companies  around  the globe to understand why employees still suffer some injuries/accidents in plants. Sometimes they also die in such environment.\n",
        "\n",
        "The scope of the project is to build a chatbot that can identify the accident level based on inputs from users. Once the accident level is identified, appropriate actions can be taken. \n",
        "\n",
        "**Data**\n",
        "\n",
        "This  The  database  is  basically  records  of  accidents  from12  different  plants  in  03  different  countries which  every  line  in  the  data  is  an occurrence of an accident.\n",
        "\n",
        "Columns description: <br>\n",
        "‣Data: timestamp or time/date information‣Countries: which country the accident occurred (anonymised) <br>\n",
        "‣Local: the city where the manufacturing plant is located (anonymised)‣Industry sector: which sector the plant belongs to <br>\n",
        "‣Accident level: from I to VI, it registers how severe was the accident (I means not severe but VI means very severe) <br>\n",
        "‣Potential Accident Level: Depending on the Accident Level, the database also registers how severe the accident could have been (due to other factors involved in the accident)<br>\n",
        "‣Gender: if the person is male of female<br>\n",
        "‣Employee or Third Party: if the injured person is an employee or a third party<br>\n",
        "‣Critical Risk: some description of the risk involved in the accident<br>\n",
        "‣Description: Detailed description of how the accident happened.<br>\n",
        "\n",
        "Link to download the dataset: <br>\n",
        "https://drive.google.com/file/d/1_GmrRP1S2OIa02KlfOBNkYa8uxazGbfE/view?usp=sharing <br>\n",
        "Original dataset link: https://www.kaggle.com/ihmstefanini/industrial-safety-and-health-analytics-database\n"
      ]
    },
    {
      "cell_type": "markdown",
      "metadata": {
        "id": "cPMpHv5UT5t-"
      },
      "source": [
        "Context:\n",
        "\n",
        "The EDA, Data Pre-Processing and Data Augmentation was done in a seperate sheet\n",
        "The final output of that notebook, will be used for model development in this notebook"
      ]
    },
    {
      "cell_type": "markdown",
      "metadata": {
        "id": "SUu-hy8OUPU3"
      },
      "source": [
        "Loading Essential Libraries "
      ]
    },
    {
      "cell_type": "code",
      "metadata": {
        "id": "DDjHVcc1TT6g"
      },
      "source": [
        "import numpy as np\n",
        "import pandas as pd \n",
        "import matplotlib.pyplot as plt\n",
        "%matplotlib inline \n",
        "import seaborn as sns\n",
        "import tensorflow as tf\n",
        "\n",
        "import numpy as np \n",
        "import pandas as pd\n",
        "import matplotlib.pyplot as plt\n",
        "import seaborn as sns\n",
        "from keras.preprocessing.text import Tokenizer\n",
        "from keras.preprocessing.sequence import pad_sequences\n",
        "from keras.models import Sequential\n",
        "from keras.layers import Dense, Embedding, LSTM, SpatialDropout1D\n",
        "from sklearn.model_selection import train_test_split\n",
        "from keras.utils.np_utils import to_categorical\n",
        "from keras.callbacks import EarlyStopping\n",
        "from keras.layers import Dropout\n",
        "import re\n",
        "from nltk.corpus import stopwords\n",
        "from nltk import word_tokenize\n",
        "import plotly.graph_objs as go\n",
        "from IPython.core.interactiveshell import InteractiveShell\n",
        "import plotly.figure_factory as ff\n",
        "InteractiveShell.ast_node_interactivity = 'all'\n",
        "from plotly.offline import iplot"
      ],
      "execution_count": 1,
      "outputs": []
    },
    {
      "cell_type": "markdown",
      "metadata": {
        "id": "_xQYFDA1UV82"
      },
      "source": [
        "Loading Gdrive and Loading the data "
      ]
    },
    {
      "cell_type": "code",
      "metadata": {
        "colab": {
          "base_uri": "https://localhost:8080/"
        },
        "id": "ZZhQYc_7UUGK",
        "outputId": "4ea1b684-bc32-4a57-8a66-7127d449647c"
      },
      "source": [
        "from google.colab import drive\n",
        "drive.mount('/content/drive/')"
      ],
      "execution_count": 3,
      "outputs": [
        {
          "output_type": "stream",
          "text": [
            "Drive already mounted at /content/drive/; to attempt to forcibly remount, call drive.mount(\"/content/drive/\", force_remount=True).\n"
          ],
          "name": "stdout"
        }
      ]
    },
    {
      "cell_type": "code",
      "metadata": {
        "id": "dA7NVmwEUYQ-"
      },
      "source": [
        "data = pd.read_csv(\"/content/drive/MyDrive/Data for Capstone/Final_Augmented_data.csv\")"
      ],
      "execution_count": 4,
      "outputs": []
    },
    {
      "cell_type": "markdown",
      "metadata": {
        "id": "P7sd3ROqcPtU"
      },
      "source": [
        "Exploratory Data Analysis"
      ]
    },
    {
      "cell_type": "code",
      "metadata": {
        "colab": {
          "base_uri": "https://localhost:8080/"
        },
        "id": "66R5xFuwUmo6",
        "outputId": "ea0be67c-fb2b-44ab-e7ce-7d2183acc5e4"
      },
      "source": [
        "data[\"Accident Level\"].value_counts() #Checking the value counts of the target variable"
      ],
      "execution_count": 5,
      "outputs": [
        {
          "output_type": "execute_result",
          "data": {
            "text/plain": [
              "1    316\n",
              "2    111\n",
              "3     96\n",
              "4     89\n",
              "5     46\n",
              "Name: Accident Level, dtype: int64"
            ]
          },
          "metadata": {
            "tags": []
          },
          "execution_count": 5
        }
      ]
    },
    {
      "cell_type": "code",
      "metadata": {
        "colab": {
          "base_uri": "https://localhost:8080/"
        },
        "id": "Ro0AAvzNUocL",
        "outputId": "1bfccabd-49c6-4899-99fb-290dc43cd901"
      },
      "source": [
        "data.dtypes.T #Chceking data types"
      ],
      "execution_count": 6,
      "outputs": [
        {
          "output_type": "execute_result",
          "data": {
            "text/plain": [
              "Unnamed: 0                   int64\n",
              "Country                      int64\n",
              "Local                        int64\n",
              "Industry Sector             object\n",
              "Accident Level               int64\n",
              "Potential Accident Level     int64\n",
              "Gender                      object\n",
              "Employee Type               object\n",
              "Critical Risk               object\n",
              "Description                 object\n",
              "Year                         int64\n",
              "Month                        int64\n",
              "Day                          int64\n",
              "Weekday                      int64\n",
              "WeekofYear                   int64\n",
              "TextSize                     int64\n",
              "dtype: object"
            ]
          },
          "metadata": {
            "tags": []
          },
          "execution_count": 6
        }
      ]
    },
    {
      "cell_type": "code",
      "metadata": {
        "colab": {
          "base_uri": "https://localhost:8080/",
          "height": 310
        },
        "id": "f-fVWBhNUsSy",
        "outputId": "5485fd7b-7f66-49ec-eba7-d1608e9cdaa4"
      },
      "source": [
        "#Resetting the column index\n",
        "data = data.reset_index()\n",
        "data = data.drop(columns=[\"index\"],axis =1)\n",
        "data.head()"
      ],
      "execution_count": 7,
      "outputs": [
        {
          "output_type": "execute_result",
          "data": {
            "text/html": [
              "<div>\n",
              "<style scoped>\n",
              "    .dataframe tbody tr th:only-of-type {\n",
              "        vertical-align: middle;\n",
              "    }\n",
              "\n",
              "    .dataframe tbody tr th {\n",
              "        vertical-align: top;\n",
              "    }\n",
              "\n",
              "    .dataframe thead th {\n",
              "        text-align: right;\n",
              "    }\n",
              "</style>\n",
              "<table border=\"1\" class=\"dataframe\">\n",
              "  <thead>\n",
              "    <tr style=\"text-align: right;\">\n",
              "      <th></th>\n",
              "      <th>Unnamed: 0</th>\n",
              "      <th>Country</th>\n",
              "      <th>Local</th>\n",
              "      <th>Industry Sector</th>\n",
              "      <th>Accident Level</th>\n",
              "      <th>Potential Accident Level</th>\n",
              "      <th>Gender</th>\n",
              "      <th>Employee Type</th>\n",
              "      <th>Critical Risk</th>\n",
              "      <th>Description</th>\n",
              "      <th>Year</th>\n",
              "      <th>Month</th>\n",
              "      <th>Day</th>\n",
              "      <th>Weekday</th>\n",
              "      <th>WeekofYear</th>\n",
              "      <th>TextSize</th>\n",
              "    </tr>\n",
              "  </thead>\n",
              "  <tbody>\n",
              "    <tr>\n",
              "      <th>0</th>\n",
              "      <td>0</td>\n",
              "      <td>1</td>\n",
              "      <td>1</td>\n",
              "      <td>Mining</td>\n",
              "      <td>1</td>\n",
              "      <td>4</td>\n",
              "      <td>Male</td>\n",
              "      <td>Third Party</td>\n",
              "      <td>Pressed</td>\n",
              "      <td>While removing the drill rod of the Jumbo 08 f...</td>\n",
              "      <td>2016</td>\n",
              "      <td>1</td>\n",
              "      <td>1</td>\n",
              "      <td>4</td>\n",
              "      <td>53</td>\n",
              "      <td>457</td>\n",
              "    </tr>\n",
              "    <tr>\n",
              "      <th>1</th>\n",
              "      <td>1</td>\n",
              "      <td>2</td>\n",
              "      <td>2</td>\n",
              "      <td>Mining</td>\n",
              "      <td>1</td>\n",
              "      <td>4</td>\n",
              "      <td>Male</td>\n",
              "      <td>Employee</td>\n",
              "      <td>Pressurized Systems</td>\n",
              "      <td>During the activation of a sodium sulphide pum...</td>\n",
              "      <td>2016</td>\n",
              "      <td>1</td>\n",
              "      <td>2</td>\n",
              "      <td>5</td>\n",
              "      <td>53</td>\n",
              "      <td>307</td>\n",
              "    </tr>\n",
              "    <tr>\n",
              "      <th>2</th>\n",
              "      <td>2</td>\n",
              "      <td>1</td>\n",
              "      <td>3</td>\n",
              "      <td>Mining</td>\n",
              "      <td>1</td>\n",
              "      <td>3</td>\n",
              "      <td>Male</td>\n",
              "      <td>Third Party (Remote)</td>\n",
              "      <td>Manual Tools</td>\n",
              "      <td>In the sub-station MILPO located at level +170...</td>\n",
              "      <td>2016</td>\n",
              "      <td>1</td>\n",
              "      <td>6</td>\n",
              "      <td>2</td>\n",
              "      <td>1</td>\n",
              "      <td>314</td>\n",
              "    </tr>\n",
              "    <tr>\n",
              "      <th>3</th>\n",
              "      <td>3</td>\n",
              "      <td>1</td>\n",
              "      <td>4</td>\n",
              "      <td>Mining</td>\n",
              "      <td>1</td>\n",
              "      <td>1</td>\n",
              "      <td>Male</td>\n",
              "      <td>Third Party</td>\n",
              "      <td>Others</td>\n",
              "      <td>Being 9:45 am. approximately in the Nv. 1880 C...</td>\n",
              "      <td>2016</td>\n",
              "      <td>1</td>\n",
              "      <td>8</td>\n",
              "      <td>4</td>\n",
              "      <td>1</td>\n",
              "      <td>562</td>\n",
              "    </tr>\n",
              "    <tr>\n",
              "      <th>4</th>\n",
              "      <td>4</td>\n",
              "      <td>1</td>\n",
              "      <td>4</td>\n",
              "      <td>Mining</td>\n",
              "      <td>4</td>\n",
              "      <td>4</td>\n",
              "      <td>Male</td>\n",
              "      <td>Third Party</td>\n",
              "      <td>Others</td>\n",
              "      <td>Approximately at 11:45 a.m. in circumstances t...</td>\n",
              "      <td>2016</td>\n",
              "      <td>1</td>\n",
              "      <td>10</td>\n",
              "      <td>6</td>\n",
              "      <td>1</td>\n",
              "      <td>487</td>\n",
              "    </tr>\n",
              "  </tbody>\n",
              "</table>\n",
              "</div>"
            ],
            "text/plain": [
              "   Unnamed: 0  Country  Local  ... Weekday  WeekofYear  TextSize\n",
              "0           0        1      1  ...       4          53       457\n",
              "1           1        2      2  ...       5          53       307\n",
              "2           2        1      3  ...       2           1       314\n",
              "3           3        1      4  ...       4           1       562\n",
              "4           4        1      4  ...       6           1       487\n",
              "\n",
              "[5 rows x 16 columns]"
            ]
          },
          "metadata": {
            "tags": []
          },
          "execution_count": 7
        }
      ]
    },
    {
      "cell_type": "code",
      "metadata": {
        "id": "7YppgxMEUwJk"
      },
      "source": [
        "data = data.drop(columns=[\"Unnamed: 0\",\"Critical Risk\"],axis=1) # Dropping unwanted columns"
      ],
      "execution_count": 8,
      "outputs": []
    },
    {
      "cell_type": "markdown",
      "metadata": {
        "id": "8Of42SjDccLu"
      },
      "source": [
        "Merging Columns so that Deep Learning Models can be build"
      ]
    },
    {
      "cell_type": "code",
      "metadata": {
        "id": "IV2x7QC5fAH6"
      },
      "source": [
        "data[\"Combined_text\"] = \"\"\n",
        "for row in range(0,data.shape[0]):\n",
        "  data[\"Combined_text\"][row] = \" The decription of the incident is {}. The incident happned in {} and {} area. The industry is {}. The potential level was {}. This was reported by a {}. The affected party was a {}. The year was {}. The month was {}. the day was {}\".format(data[\"Description\"][row],data[\"Country\"][row],data[\"Local\"][row],data[\"Industry Sector\"][row],data[\"Potential Accident Level\"][row],data[\"Gender\"][row],data[\"Employee Type\"][row],data[\"Year\"][row],data[\"Month\"][row],data[\"Day\"][row])"
      ],
      "execution_count": 9,
      "outputs": []
    },
    {
      "cell_type": "code",
      "metadata": {
        "colab": {
          "base_uri": "https://localhost:8080/",
          "height": 310
        },
        "id": "1aJcXiSigpyb",
        "outputId": "7b24e5d8-8f12-4ebf-be75-ba0f7bf21e88"
      },
      "source": [
        "data.head() #checking the processed dataframe"
      ],
      "execution_count": 10,
      "outputs": [
        {
          "output_type": "execute_result",
          "data": {
            "text/html": [
              "<div>\n",
              "<style scoped>\n",
              "    .dataframe tbody tr th:only-of-type {\n",
              "        vertical-align: middle;\n",
              "    }\n",
              "\n",
              "    .dataframe tbody tr th {\n",
              "        vertical-align: top;\n",
              "    }\n",
              "\n",
              "    .dataframe thead th {\n",
              "        text-align: right;\n",
              "    }\n",
              "</style>\n",
              "<table border=\"1\" class=\"dataframe\">\n",
              "  <thead>\n",
              "    <tr style=\"text-align: right;\">\n",
              "      <th></th>\n",
              "      <th>Country</th>\n",
              "      <th>Local</th>\n",
              "      <th>Industry Sector</th>\n",
              "      <th>Accident Level</th>\n",
              "      <th>Potential Accident Level</th>\n",
              "      <th>Gender</th>\n",
              "      <th>Employee Type</th>\n",
              "      <th>Description</th>\n",
              "      <th>Year</th>\n",
              "      <th>Month</th>\n",
              "      <th>Day</th>\n",
              "      <th>Weekday</th>\n",
              "      <th>WeekofYear</th>\n",
              "      <th>TextSize</th>\n",
              "      <th>Combined_text</th>\n",
              "    </tr>\n",
              "  </thead>\n",
              "  <tbody>\n",
              "    <tr>\n",
              "      <th>0</th>\n",
              "      <td>1</td>\n",
              "      <td>1</td>\n",
              "      <td>Mining</td>\n",
              "      <td>1</td>\n",
              "      <td>4</td>\n",
              "      <td>Male</td>\n",
              "      <td>Third Party</td>\n",
              "      <td>While removing the drill rod of the Jumbo 08 f...</td>\n",
              "      <td>2016</td>\n",
              "      <td>1</td>\n",
              "      <td>1</td>\n",
              "      <td>4</td>\n",
              "      <td>53</td>\n",
              "      <td>457</td>\n",
              "      <td>The decription of the incident is While remov...</td>\n",
              "    </tr>\n",
              "    <tr>\n",
              "      <th>1</th>\n",
              "      <td>2</td>\n",
              "      <td>2</td>\n",
              "      <td>Mining</td>\n",
              "      <td>1</td>\n",
              "      <td>4</td>\n",
              "      <td>Male</td>\n",
              "      <td>Employee</td>\n",
              "      <td>During the activation of a sodium sulphide pum...</td>\n",
              "      <td>2016</td>\n",
              "      <td>1</td>\n",
              "      <td>2</td>\n",
              "      <td>5</td>\n",
              "      <td>53</td>\n",
              "      <td>307</td>\n",
              "      <td>The decription of the incident is During the ...</td>\n",
              "    </tr>\n",
              "    <tr>\n",
              "      <th>2</th>\n",
              "      <td>1</td>\n",
              "      <td>3</td>\n",
              "      <td>Mining</td>\n",
              "      <td>1</td>\n",
              "      <td>3</td>\n",
              "      <td>Male</td>\n",
              "      <td>Third Party (Remote)</td>\n",
              "      <td>In the sub-station MILPO located at level +170...</td>\n",
              "      <td>2016</td>\n",
              "      <td>1</td>\n",
              "      <td>6</td>\n",
              "      <td>2</td>\n",
              "      <td>1</td>\n",
              "      <td>314</td>\n",
              "      <td>The decription of the incident is In the sub-...</td>\n",
              "    </tr>\n",
              "    <tr>\n",
              "      <th>3</th>\n",
              "      <td>1</td>\n",
              "      <td>4</td>\n",
              "      <td>Mining</td>\n",
              "      <td>1</td>\n",
              "      <td>1</td>\n",
              "      <td>Male</td>\n",
              "      <td>Third Party</td>\n",
              "      <td>Being 9:45 am. approximately in the Nv. 1880 C...</td>\n",
              "      <td>2016</td>\n",
              "      <td>1</td>\n",
              "      <td>8</td>\n",
              "      <td>4</td>\n",
              "      <td>1</td>\n",
              "      <td>562</td>\n",
              "      <td>The decription of the incident is Being 9:45 ...</td>\n",
              "    </tr>\n",
              "    <tr>\n",
              "      <th>4</th>\n",
              "      <td>1</td>\n",
              "      <td>4</td>\n",
              "      <td>Mining</td>\n",
              "      <td>4</td>\n",
              "      <td>4</td>\n",
              "      <td>Male</td>\n",
              "      <td>Third Party</td>\n",
              "      <td>Approximately at 11:45 a.m. in circumstances t...</td>\n",
              "      <td>2016</td>\n",
              "      <td>1</td>\n",
              "      <td>10</td>\n",
              "      <td>6</td>\n",
              "      <td>1</td>\n",
              "      <td>487</td>\n",
              "      <td>The decription of the incident is Approximate...</td>\n",
              "    </tr>\n",
              "  </tbody>\n",
              "</table>\n",
              "</div>"
            ],
            "text/plain": [
              "   Country  Local  ... TextSize                                      Combined_text\n",
              "0        1      1  ...      457   The decription of the incident is While remov...\n",
              "1        2      2  ...      307   The decription of the incident is During the ...\n",
              "2        1      3  ...      314   The decription of the incident is In the sub-...\n",
              "3        1      4  ...      562   The decription of the incident is Being 9:45 ...\n",
              "4        1      4  ...      487   The decription of the incident is Approximate...\n",
              "\n",
              "[5 rows x 15 columns]"
            ]
          },
          "metadata": {
            "tags": []
          },
          "execution_count": 10
        }
      ]
    },
    {
      "cell_type": "code",
      "metadata": {
        "id": "5yIEIUlBgskU"
      },
      "source": [
        "#dropping unwanted columns\n",
        "data = data.drop(columns=[\"Country\",\"Local\",\"Industry Sector\",\"Potential Accident Level\",\"Gender\",\"Employee Type\",\"Year\",\"Day\",\"Weekday\",\"WeekofYear\",\"TextSize\",\"Description\",\"Month\"],axis = 1)"
      ],
      "execution_count": 11,
      "outputs": []
    },
    {
      "cell_type": "code",
      "metadata": {
        "colab": {
          "base_uri": "https://localhost:8080/",
          "height": 206
        },
        "id": "QdPqWa_nhC91",
        "outputId": "fa37784f-3495-48a0-c5e4-a9715328c52d"
      },
      "source": [
        "data.head() #checling the data fram "
      ],
      "execution_count": 12,
      "outputs": [
        {
          "output_type": "execute_result",
          "data": {
            "text/html": [
              "<div>\n",
              "<style scoped>\n",
              "    .dataframe tbody tr th:only-of-type {\n",
              "        vertical-align: middle;\n",
              "    }\n",
              "\n",
              "    .dataframe tbody tr th {\n",
              "        vertical-align: top;\n",
              "    }\n",
              "\n",
              "    .dataframe thead th {\n",
              "        text-align: right;\n",
              "    }\n",
              "</style>\n",
              "<table border=\"1\" class=\"dataframe\">\n",
              "  <thead>\n",
              "    <tr style=\"text-align: right;\">\n",
              "      <th></th>\n",
              "      <th>Accident Level</th>\n",
              "      <th>Combined_text</th>\n",
              "    </tr>\n",
              "  </thead>\n",
              "  <tbody>\n",
              "    <tr>\n",
              "      <th>0</th>\n",
              "      <td>1</td>\n",
              "      <td>The decription of the incident is While remov...</td>\n",
              "    </tr>\n",
              "    <tr>\n",
              "      <th>1</th>\n",
              "      <td>1</td>\n",
              "      <td>The decription of the incident is During the ...</td>\n",
              "    </tr>\n",
              "    <tr>\n",
              "      <th>2</th>\n",
              "      <td>1</td>\n",
              "      <td>The decription of the incident is In the sub-...</td>\n",
              "    </tr>\n",
              "    <tr>\n",
              "      <th>3</th>\n",
              "      <td>1</td>\n",
              "      <td>The decription of the incident is Being 9:45 ...</td>\n",
              "    </tr>\n",
              "    <tr>\n",
              "      <th>4</th>\n",
              "      <td>4</td>\n",
              "      <td>The decription of the incident is Approximate...</td>\n",
              "    </tr>\n",
              "  </tbody>\n",
              "</table>\n",
              "</div>"
            ],
            "text/plain": [
              "   Accident Level                                      Combined_text\n",
              "0               1   The decription of the incident is While remov...\n",
              "1               1   The decription of the incident is During the ...\n",
              "2               1   The decription of the incident is In the sub-...\n",
              "3               1   The decription of the incident is Being 9:45 ...\n",
              "4               4   The decription of the incident is Approximate..."
            ]
          },
          "metadata": {
            "tags": []
          },
          "execution_count": 12
        }
      ]
    },
    {
      "cell_type": "markdown",
      "metadata": {
        "id": "YcqcdNJdsIaE"
      },
      "source": [
        "Clearning the text column"
      ]
    },
    {
      "cell_type": "code",
      "metadata": {
        "id": "0BQRivjNsHvS"
      },
      "source": [
        "contractions = { \n",
        "\"ain't\": \"am not / are not / is not / has not / have not\",\n",
        "\"aren't\": \"are not / am not\",\n",
        "\"can't\": \"cannot\",\n",
        "\"can't've\": \"cannot have\",\n",
        "\"'cause\": \"because\",\n",
        "\"could've\": \"could have\",\n",
        "\"couldn't\": \"could not\",\n",
        "\"couldn't've\": \"could not have\",\n",
        "\"didn't\": \"did not\",\n",
        "\"doesn't\": \"does not\",\n",
        "\"don't\": \"do not\",\n",
        "\"hadn't\": \"had not\",\n",
        "\"hadn't've\": \"had not have\",\n",
        "\"hasn't\": \"has not\",\n",
        "\"haven't\": \"have not\",\n",
        "\"he'd\": \"he had / he would\",\n",
        "\"he'd've\": \"he would have\",\n",
        "\"he'll\": \"he shall / he will\",\n",
        "\"he'll've\": \"he shall have / he will have\",\n",
        "\"he's\": \"he has / he is\",\n",
        "\"how'd\": \"how did\",\n",
        "\"how'd'y\": \"how do you\",\n",
        "\"how'll\": \"how will\",\n",
        "\"how's\": \"how has / how is / how does\",\n",
        "\"I'd\": \"I had / I would\",\n",
        "\"I'd've\": \"I would have\",\n",
        "\"I'll\": \"I shall / I will\",\n",
        "\"I'll've\": \"I shall have / I will have\",\n",
        "\"I'm\": \"I am\",\n",
        "\"I've\": \"I have\",\n",
        "\"isn't\": \"is not\",\n",
        "\"it'd\": \"it had / it would\",\n",
        "\"it'd've\": \"it would have\",\n",
        "\"it'll\": \"it shall / it will\",\n",
        "\"it'll've\": \"it shall have / it will have\",\n",
        "\"it's\": \"it has / it is\",\n",
        "\"let's\": \"let us\",\n",
        "\"ma'am\": \"madam\",\n",
        "\"mayn't\": \"may not\",\n",
        "\"might've\": \"might have\",\n",
        "\"mightn't\": \"might not\",\n",
        "\"mightn't've\": \"might not have\",\n",
        "\"must've\": \"must have\",\n",
        "\"mustn't\": \"must not\",\n",
        "\"mustn't've\": \"must not have\",\n",
        "\"needn't\": \"need not\",\n",
        "\"needn't've\": \"need not have\",\n",
        "\"o'clock\": \"of the clock\",\n",
        "\"oughtn't\": \"ought not\",\n",
        "\"oughtn't've\": \"ought not have\",\n",
        "\"shan't\": \"shall not\",\n",
        "\"sha'n't\": \"shall not\",\n",
        "\"shan't've\": \"shall not have\",\n",
        "\"she'd\": \"she had / she would\",\n",
        "\"she'd've\": \"she would have\",\n",
        "\"she'll\": \"she shall / she will\",\n",
        "\"she'll've\": \"she shall have / she will have\",\n",
        "\"she's\": \"she has / she is\",\n",
        "\"should've\": \"should have\",\n",
        "\"shouldn't\": \"should not\",\n",
        "\"shouldn't've\": \"should not have\",\n",
        "\"so've\": \"so have\",\n",
        "\"so's\": \"so as / so is\",\n",
        "\"that'd\": \"that would / that had\",\n",
        "\"that'd've\": \"that would have\",\n",
        "\"that's\": \"that has / that is\",\n",
        "\"there'd\": \"there had / there would\",\n",
        "\"there'd've\": \"there would have\",\n",
        "\"there's\": \"there has / there is\",\n",
        "\"they'd\": \"they had / they would\",\n",
        "\"they'd've\": \"they would have\",\n",
        "\"they'll\": \"they shall / they will\",\n",
        "\"they'll've\": \"they shall have / they will have\",\n",
        "\"they're\": \"they are\",\n",
        "\"they've\": \"they have\",\n",
        "\"to've\": \"to have\",\n",
        "\"wasn't\": \"was not\",\n",
        "\"we'd\": \"we had / we would\",\n",
        "\"we'd've\": \"we would have\",\n",
        "\"we'll\": \"we will\",\n",
        "\"we'll've\": \"we will have\",\n",
        "\"we're\": \"we are\",\n",
        "\"we've\": \"we have\",\n",
        "\"weren't\": \"were not\",\n",
        "\"what'll\": \"what shall / what will\",\n",
        "\"what'll've\": \"what shall have / what will have\",\n",
        "\"what're\": \"what are\",\n",
        "\"what's\": \"what has / what is\",\n",
        "\"what've\": \"what have\",\n",
        "\"when's\": \"when has / when is\",\n",
        "\"when've\": \"when have\",\n",
        "\"where'd\": \"where did\",\n",
        "\"where's\": \"where has / where is\",\n",
        "\"where've\": \"where have\",\n",
        "\"who'll\": \"who shall / who will\",\n",
        "\"who'll've\": \"who shall have / who will have\",\n",
        "\"who's\": \"who has / who is\",\n",
        "\"who've\": \"who have\",\n",
        "\"why's\": \"why has / why is\",\n",
        "\"why've\": \"why have\",\n",
        "\"will've\": \"will have\",\n",
        "\"won't\": \"will not\",\n",
        "\"won't've\": \"will not have\",\n",
        "\"would've\": \"would have\",\n",
        "\"wouldn't\": \"would not\",\n",
        "\"wouldn't've\": \"would not have\",\n",
        "\"y'all\": \"you all\",\n",
        "\"y'all'd\": \"you all would\",\n",
        "\"y'all'd've\": \"you all would have\",\n",
        "\"y'all're\": \"you all are\",\n",
        "\"y'all've\": \"you all have\",\n",
        "\"you'd\": \"you had / you would\",\n",
        "\"you'd've\": \"you would have\",\n",
        "\"you'll\": \"you shall / you will\",\n",
        "\"you'll've\": \"you shall have / you will have\",\n",
        "\"you're\": \"you are\",\n",
        "\"you've\": \"you have\"\n",
        "}"
      ],
      "execution_count": 13,
      "outputs": []
    },
    {
      "cell_type": "code",
      "metadata": {
        "id": "g-WUHjWasiUN"
      },
      "source": [
        "def clean_text(text, remove_stopwords=True):\n",
        "  # Convert words to lower case\n",
        "  text = text.lower()\n",
        "  if True:\n",
        "    text = text.split()\n",
        "    new_text = []\n",
        "    for word in text:\n",
        "      if word in contractions:\n",
        "        new_text.append(contractions[word])\n",
        "      else:\n",
        "        new_text.append(word)\n",
        "      text = \" \".join(new_text)\n",
        "      text = re.sub(r'https?:\\/\\/.*[\\r\\n]*', '', text, flags=re.MULTILINE)\n",
        "      text = re.sub(r'\\<a href', ' ', text)\n",
        "      text = re.sub(r'&amp;', '', text)\n",
        "      text = re.sub(r'[_\"\\-;%()|+&=*%.,!?:#$@\\[\\]/]', ' ', text)\n",
        "      text = re.sub(r'<br />', ' ', text)\n",
        "      text = re.sub(r'\\'', ' ', text)\n",
        "      if remove_stopwords:\n",
        "        text = text.split()\n",
        "        stops = set(stopwords.words(\"english\"))\n",
        "        text = [w for w in text if not w in stops]\n",
        "        text = \" \".join(text)\n",
        "  return text"
      ],
      "execution_count": 14,
      "outputs": []
    },
    {
      "cell_type": "code",
      "metadata": {
        "colab": {
          "base_uri": "https://localhost:8080/"
        },
        "id": "QzZ2X0RFskyt",
        "outputId": "6ed03e56-6c64-49f3-d39a-4b249cb110c6"
      },
      "source": [
        "import nltk\n",
        "nltk.download('stopwords')\n",
        "\n",
        "# Clean the headlines\n",
        "import re\n",
        "from nltk.corpus import stopwords \n",
        "from pickle import dump, load\n",
        "\n",
        "clean_balanced_headlines = []\n",
        "for headline in data['Combined_text']:\n",
        "  clean_balanced_headlines.append(clean_text(headline, remove_stopwords = True))\n",
        "print('Data is cleaned!')"
      ],
      "execution_count": 15,
      "outputs": [
        {
          "output_type": "stream",
          "text": [
            "[nltk_data] Downloading package stopwords to /root/nltk_data...\n",
            "[nltk_data]   Unzipping corpora/stopwords.zip.\n"
          ],
          "name": "stdout"
        },
        {
          "output_type": "execute_result",
          "data": {
            "text/plain": [
              "True"
            ]
          },
          "metadata": {
            "tags": []
          },
          "execution_count": 15
        },
        {
          "output_type": "stream",
          "text": [
            "Data is cleaned!\n"
          ],
          "name": "stdout"
        }
      ]
    },
    {
      "cell_type": "code",
      "metadata": {
        "colab": {
          "base_uri": "https://localhost:8080/",
          "height": 206
        },
        "id": "Yd8HRHgNsueG",
        "outputId": "64dab197-26d7-40fd-f583-2d9520899112"
      },
      "source": [
        "data['Combined_text'] = clean_balanced_headlines\n",
        "data.head()"
      ],
      "execution_count": 16,
      "outputs": [
        {
          "output_type": "execute_result",
          "data": {
            "text/html": [
              "<div>\n",
              "<style scoped>\n",
              "    .dataframe tbody tr th:only-of-type {\n",
              "        vertical-align: middle;\n",
              "    }\n",
              "\n",
              "    .dataframe tbody tr th {\n",
              "        vertical-align: top;\n",
              "    }\n",
              "\n",
              "    .dataframe thead th {\n",
              "        text-align: right;\n",
              "    }\n",
              "</style>\n",
              "<table border=\"1\" class=\"dataframe\">\n",
              "  <thead>\n",
              "    <tr style=\"text-align: right;\">\n",
              "      <th></th>\n",
              "      <th>Accident Level</th>\n",
              "      <th>Combined_text</th>\n",
              "    </tr>\n",
              "  </thead>\n",
              "  <tbody>\n",
              "    <tr>\n",
              "      <th>0</th>\n",
              "      <td>1</td>\n",
              "      <td>decription incident removing drill rod jumbo 0...</td>\n",
              "    </tr>\n",
              "    <tr>\n",
              "      <th>1</th>\n",
              "      <td>1</td>\n",
              "      <td>decription incident activation sodium sulphide...</td>\n",
              "    </tr>\n",
              "    <tr>\n",
              "      <th>2</th>\n",
              "      <td>1</td>\n",
              "      <td>decription incident sub station milpo located ...</td>\n",
              "    </tr>\n",
              "    <tr>\n",
              "      <th>3</th>\n",
              "      <td>1</td>\n",
              "      <td>decription incident 9 45 approximately nv 1880...</td>\n",
              "    </tr>\n",
              "    <tr>\n",
              "      <th>4</th>\n",
              "      <td>4</td>\n",
              "      <td>decription incident approximately 11 45 circum...</td>\n",
              "    </tr>\n",
              "  </tbody>\n",
              "</table>\n",
              "</div>"
            ],
            "text/plain": [
              "   Accident Level                                      Combined_text\n",
              "0               1  decription incident removing drill rod jumbo 0...\n",
              "1               1  decription incident activation sodium sulphide...\n",
              "2               1  decription incident sub station milpo located ...\n",
              "3               1  decription incident 9 45 approximately nv 1880...\n",
              "4               4  decription incident approximately 11 45 circum..."
            ]
          },
          "metadata": {
            "tags": []
          },
          "execution_count": 16
        }
      ]
    },
    {
      "cell_type": "markdown",
      "metadata": {
        "id": "nTQHGGkiFNlS"
      },
      "source": [
        "LSTM Model Develoment"
      ]
    },
    {
      "cell_type": "markdown",
      "metadata": {
        "id": "U5v2xDE0FMMz"
      },
      "source": [
        ""
      ]
    },
    {
      "cell_type": "code",
      "metadata": {
        "colab": {
          "base_uri": "https://localhost:8080/"
        },
        "id": "C_EY4jeuhQoH",
        "outputId": "b011e371-6e54-4242-9c10-313c0768f3e0"
      },
      "source": [
        "import nltk\n",
        "nltk.download('stopwords')"
      ],
      "execution_count": 17,
      "outputs": [
        {
          "output_type": "stream",
          "text": [
            "[nltk_data] Downloading package stopwords to /root/nltk_data...\n",
            "[nltk_data]   Package stopwords is already up-to-date!\n"
          ],
          "name": "stdout"
        },
        {
          "output_type": "execute_result",
          "data": {
            "text/plain": [
              "True"
            ]
          },
          "metadata": {
            "tags": []
          },
          "execution_count": 17
        }
      ]
    },
    {
      "cell_type": "code",
      "metadata": {
        "colab": {
          "base_uri": "https://localhost:8080/"
        },
        "id": "h76UWOP0dGsq",
        "outputId": "63f51d6f-505b-4e34-f07d-c5c34268c144"
      },
      "source": [
        "# The maximum number of words to be used. (most frequent)\n",
        "MAX_NB_WORDS = 50000\n",
        "# Max number of words in each complaint.\n",
        "MAX_SEQUENCE_LENGTH = 250\n",
        "# This is fixed.\n",
        "EMBEDDING_DIM = 100\n",
        "\n",
        "tokenizer = Tokenizer(num_words=MAX_NB_WORDS, filters='!\"#$%&()*+,-./:;<=>?@[\\]^_`{|}~', lower=True)\n",
        "tokenizer.fit_on_texts(data['Combined_text'].values)\n",
        "word_index = tokenizer.word_index\n",
        "print('Found %s unique tokens.' % len(word_index))"
      ],
      "execution_count": 18,
      "outputs": [
        {
          "output_type": "stream",
          "text": [
            "Found 3743 unique tokens.\n"
          ],
          "name": "stdout"
        }
      ]
    },
    {
      "cell_type": "markdown",
      "metadata": {
        "id": "bAT91WXslNda"
      },
      "source": [
        "Training and Testing Data Split"
      ]
    },
    {
      "cell_type": "code",
      "metadata": {
        "id": "xpajOmp2oN31"
      },
      "source": [
        "data = data.sample(frac=1).reset_index(drop=True) # Shuffling the dataset before building model"
      ],
      "execution_count": 19,
      "outputs": []
    },
    {
      "cell_type": "code",
      "metadata": {
        "id": "gBKGz4qmNxxJ"
      },
      "source": [
        "training_portion = .85 # Seperating part of the data for testing"
      ],
      "execution_count": 20,
      "outputs": []
    },
    {
      "cell_type": "code",
      "metadata": {
        "colab": {
          "base_uri": "https://localhost:8080/"
        },
        "id": "bIbz124PNk_V",
        "outputId": "6be0b08d-7363-4a58-c83b-5510299e69cf"
      },
      "source": [
        "train_size = int(len(data) * training_portion)\n",
        "\n",
        "data_train = data.head(train_size)\n",
        "data_validation = data.tail(len(data)-train_size)\n",
        "\n",
        "print(len(data_train))\n",
        "print(len(data_validation))\n",
        "print(len(data))"
      ],
      "execution_count": 21,
      "outputs": [
        {
          "output_type": "stream",
          "text": [
            "559\n",
            "99\n",
            "658\n"
          ],
          "name": "stdout"
        }
      ]
    },
    {
      "cell_type": "code",
      "metadata": {
        "colab": {
          "base_uri": "https://localhost:8080/"
        },
        "id": "YNk7jjX0n7ec",
        "outputId": "5cc68021-e722-406c-94ec-5538bd2bd64b"
      },
      "source": [
        "data_validation[\"Accident Level\"].value_counts()"
      ],
      "execution_count": 22,
      "outputs": [
        {
          "output_type": "execute_result",
          "data": {
            "text/plain": [
              "1    46\n",
              "3    17\n",
              "4    15\n",
              "2    11\n",
              "5    10\n",
              "Name: Accident Level, dtype: int64"
            ]
          },
          "metadata": {
            "tags": []
          },
          "execution_count": 22
        }
      ]
    },
    {
      "cell_type": "markdown",
      "metadata": {
        "id": "mMznlPVolQwx"
      },
      "source": [
        "Converting the Training \"text\" data into tokens "
      ]
    },
    {
      "cell_type": "code",
      "metadata": {
        "colab": {
          "base_uri": "https://localhost:8080/"
        },
        "id": "fnMN9qdvheTw",
        "outputId": "79429c2f-8f91-4dae-e4be-17c6a551baaf"
      },
      "source": [
        "X = tokenizer.texts_to_sequences(data_train['Combined_text'].values)\n",
        "X = pad_sequences(X, maxlen=MAX_SEQUENCE_LENGTH)\n",
        "print('Shape of data tensor:', X.shape)"
      ],
      "execution_count": 23,
      "outputs": [
        {
          "output_type": "stream",
          "text": [
            "Shape of data tensor: (559, 250)\n"
          ],
          "name": "stdout"
        }
      ]
    },
    {
      "cell_type": "markdown",
      "metadata": {
        "id": "t3s6vnXulXKq"
      },
      "source": [
        "Processing the target variable for traning"
      ]
    },
    {
      "cell_type": "code",
      "metadata": {
        "colab": {
          "base_uri": "https://localhost:8080/"
        },
        "id": "cAcq3qhzhgwi",
        "outputId": "dd8ac60b-17cb-4061-f568-79d5a79130ed"
      },
      "source": [
        "Y = pd.get_dummies(data_train['Accident Level']).values\n",
        "print('Shape of label tensor:', Y.shape)\n",
        "print(Y)"
      ],
      "execution_count": 24,
      "outputs": [
        {
          "output_type": "stream",
          "text": [
            "Shape of label tensor: (559, 5)\n",
            "[[1 0 0 0 0]\n",
            " [0 0 0 1 0]\n",
            " [1 0 0 0 0]\n",
            " ...\n",
            " [0 1 0 0 0]\n",
            " [1 0 0 0 0]\n",
            " [0 0 0 1 0]]\n"
          ],
          "name": "stdout"
        }
      ]
    },
    {
      "cell_type": "markdown",
      "metadata": {
        "id": "BX-jRoFtFSoc"
      },
      "source": [
        "Defining the model structure"
      ]
    },
    {
      "cell_type": "code",
      "metadata": {
        "colab": {
          "base_uri": "https://localhost:8080/"
        },
        "id": "0E3CnLhkhodj",
        "outputId": "55267228-eae6-485c-f241-a30e2e8902aa"
      },
      "source": [
        "model_LSTM = Sequential()\n",
        "model_LSTM.add(Embedding(MAX_NB_WORDS, EMBEDDING_DIM, input_length=X.shape[1]))\n",
        "model_LSTM.add(SpatialDropout1D(0.2))\n",
        "model_LSTM.add(LSTM(100, dropout=0.2, recurrent_dropout=0.2))\n",
        "model_LSTM.add(Dense(5, activation='softmax'))\n",
        "model_LSTM.compile(loss='categorical_crossentropy', optimizer='adam', metrics=['accuracy'])\n",
        "\n",
        "print(model_LSTM.summary())"
      ],
      "execution_count": 25,
      "outputs": [
        {
          "output_type": "stream",
          "text": [
            "WARNING:tensorflow:Layer lstm will not use cuDNN kernels since it doesn't meet the criteria. It will use a generic GPU kernel as fallback when running on GPU.\n",
            "Model: \"sequential\"\n",
            "_________________________________________________________________\n",
            "Layer (type)                 Output Shape              Param #   \n",
            "=================================================================\n",
            "embedding (Embedding)        (None, 250, 100)          5000000   \n",
            "_________________________________________________________________\n",
            "spatial_dropout1d (SpatialDr (None, 250, 100)          0         \n",
            "_________________________________________________________________\n",
            "lstm (LSTM)                  (None, 100)               80400     \n",
            "_________________________________________________________________\n",
            "dense (Dense)                (None, 5)                 505       \n",
            "=================================================================\n",
            "Total params: 5,080,905\n",
            "Trainable params: 5,080,905\n",
            "Non-trainable params: 0\n",
            "_________________________________________________________________\n",
            "None\n"
          ],
          "name": "stdout"
        }
      ]
    },
    {
      "cell_type": "markdown",
      "metadata": {
        "id": "QDUiMwBDFVot"
      },
      "source": [
        "Running the model for fit"
      ]
    },
    {
      "cell_type": "code",
      "metadata": {
        "colab": {
          "base_uri": "https://localhost:8080/"
        },
        "id": "OaFufIUyhrAD",
        "outputId": "b0f614ba-592a-44ac-d7fb-288b3a1e478f"
      },
      "source": [
        "from sklearn.utils import class_weight\n",
        "class_weights = class_weight.compute_class_weight('balanced', np.unique(data['Accident Level'].values), data['Accident Level'].values)\n",
        "weight = {i : class_weights[i] for i in range(5)}\n",
        "print(weight)\n",
        "\n",
        "epochs = 50\n",
        "batch_size = 32\n",
        "\n",
        "history = model_LSTM.fit(X, Y, class_weight=weight, epochs=epochs, batch_size=batch_size,validation_split=0.1)"
      ],
      "execution_count": null,
      "outputs": [
        {
          "output_type": "stream",
          "text": [
            "{0: 0.41645569620253164, 1: 1.1855855855855857, 2: 1.3708333333333333, 3: 1.4786516853932585, 4: 2.860869565217391}\n",
            "WARNING:tensorflow:From /usr/local/lib/python3.7/dist-packages/tensorflow/python/ops/array_ops.py:5049: calling gather (from tensorflow.python.ops.array_ops) with validate_indices is deprecated and will be removed in a future version.\n",
            "Instructions for updating:\n",
            "The `validate_indices` argument has no effect. Indices are always validated on CPU and never validated on GPU.\n",
            "Epoch 1/50\n",
            "16/16 [==============================] - 41s 1s/step - loss: 1.5198 - accuracy: 0.2565 - val_loss: 1.5898 - val_accuracy: 0.5000\n",
            "Epoch 2/50\n",
            "16/16 [==============================] - 16s 1s/step - loss: 1.5732 - accuracy: 0.5159 - val_loss: 1.5288 - val_accuracy: 0.1964\n",
            "Epoch 3/50\n",
            "16/16 [==============================] - 16s 1s/step - loss: 1.5032 - accuracy: 0.2665 - val_loss: 2.6650 - val_accuracy: 0.0536\n",
            "Epoch 4/50\n",
            "16/16 [==============================] - 16s 1s/step - loss: 1.4239 - accuracy: 0.3044 - val_loss: 1.4798 - val_accuracy: 0.2857\n",
            "Epoch 5/50\n",
            "16/16 [==============================] - 16s 1s/step - loss: 1.2298 - accuracy: 0.2751 - val_loss: 1.3384 - val_accuracy: 0.3929\n",
            "Epoch 6/50\n",
            "16/16 [==============================] - 16s 1s/step - loss: 1.0571 - accuracy: 0.4431 - val_loss: 1.2668 - val_accuracy: 0.4286\n",
            "Epoch 7/50\n",
            "16/16 [==============================] - 16s 1s/step - loss: 1.0586 - accuracy: 0.4415 - val_loss: 1.3558 - val_accuracy: 0.2500\n",
            "Epoch 8/50\n",
            "16/16 [==============================] - 16s 1s/step - loss: 1.0218 - accuracy: 0.3738 - val_loss: 1.2629 - val_accuracy: 0.4464\n",
            "Epoch 9/50\n",
            "16/16 [==============================] - 16s 1s/step - loss: 1.0257 - accuracy: 0.5536 - val_loss: 1.2054 - val_accuracy: 0.4821\n",
            "Epoch 10/50\n",
            "16/16 [==============================] - 16s 1s/step - loss: 0.8497 - accuracy: 0.6049 - val_loss: 1.1041 - val_accuracy: 0.4286\n",
            "Epoch 11/50\n",
            "16/16 [==============================] - 16s 1s/step - loss: 0.6649 - accuracy: 0.5636 - val_loss: 0.9820 - val_accuracy: 0.5714\n",
            "Epoch 12/50\n",
            "16/16 [==============================] - 17s 1s/step - loss: 0.6080 - accuracy: 0.5771 - val_loss: 1.0125 - val_accuracy: 0.6071\n",
            "Epoch 13/50\n",
            "16/16 [==============================] - 17s 1s/step - loss: 0.7219 - accuracy: 0.6688 - val_loss: 0.8323 - val_accuracy: 0.6250\n",
            "Epoch 14/50\n",
            "16/16 [==============================] - 16s 1s/step - loss: 0.4675 - accuracy: 0.7078 - val_loss: 0.7541 - val_accuracy: 0.6607\n",
            "Epoch 15/50\n",
            "16/16 [==============================] - 16s 1s/step - loss: 0.3962 - accuracy: 0.7495 - val_loss: 0.6253 - val_accuracy: 0.7143\n",
            "Epoch 16/50\n",
            "16/16 [==============================] - 16s 1s/step - loss: 0.3149 - accuracy: 0.7817 - val_loss: 0.5740 - val_accuracy: 0.7321\n",
            "Epoch 17/50\n",
            "16/16 [==============================] - 16s 1s/step - loss: 0.3173 - accuracy: 0.7230 - val_loss: 0.6575 - val_accuracy: 0.6964\n",
            "Epoch 18/50\n",
            "16/16 [==============================] - 16s 1s/step - loss: 0.2667 - accuracy: 0.7451 - val_loss: 0.7393 - val_accuracy: 0.6786\n",
            "Epoch 19/50\n",
            "16/16 [==============================] - 16s 1s/step - loss: 0.3252 - accuracy: 0.7491 - val_loss: 0.6529 - val_accuracy: 0.6964\n",
            "Epoch 20/50\n",
            "16/16 [==============================] - 16s 1s/step - loss: 0.2870 - accuracy: 0.8173 - val_loss: 0.5905 - val_accuracy: 0.7143\n",
            "Epoch 21/50\n",
            "16/16 [==============================] - 16s 1s/step - loss: 0.2804 - accuracy: 0.7874 - val_loss: 0.6603 - val_accuracy: 0.7143\n",
            "Epoch 22/50\n",
            "16/16 [==============================] - 16s 1s/step - loss: 0.2438 - accuracy: 0.8361 - val_loss: 1.0481 - val_accuracy: 0.5893\n",
            "Epoch 23/50\n",
            "16/16 [==============================] - 16s 1s/step - loss: 0.2923 - accuracy: 0.7282 - val_loss: 0.6452 - val_accuracy: 0.8036\n",
            "Epoch 24/50\n",
            "16/16 [==============================] - 16s 1s/step - loss: 0.2920 - accuracy: 0.8336 - val_loss: 0.8842 - val_accuracy: 0.6964\n",
            "Epoch 25/50\n",
            "16/16 [==============================] - 16s 1s/step - loss: 0.2391 - accuracy: 0.8300 - val_loss: 0.5256 - val_accuracy: 0.7500\n",
            "Epoch 26/50\n",
            "16/16 [==============================] - 16s 1s/step - loss: 0.2204 - accuracy: 0.8627 - val_loss: 0.4726 - val_accuracy: 0.8214\n",
            "Epoch 27/50\n",
            "16/16 [==============================] - 16s 1s/step - loss: 0.1424 - accuracy: 0.9335 - val_loss: 0.4341 - val_accuracy: 0.8571\n",
            "Epoch 28/50\n",
            "16/16 [==============================] - 16s 1s/step - loss: 0.1086 - accuracy: 0.9650 - val_loss: 0.4775 - val_accuracy: 0.8571\n",
            "Epoch 29/50\n",
            "16/16 [==============================] - 17s 1s/step - loss: 0.0615 - accuracy: 0.9812 - val_loss: 0.4021 - val_accuracy: 0.8929\n",
            "Epoch 30/50\n",
            "16/16 [==============================] - 16s 1s/step - loss: 0.0382 - accuracy: 0.9866 - val_loss: 0.3566 - val_accuracy: 0.9107\n",
            "Epoch 31/50\n",
            "16/16 [==============================] - 16s 1s/step - loss: 0.0312 - accuracy: 0.9871 - val_loss: 0.4959 - val_accuracy: 0.8929\n",
            "Epoch 32/50\n",
            "16/16 [==============================] - 16s 1s/step - loss: 0.0335 - accuracy: 0.9863 - val_loss: 0.4554 - val_accuracy: 0.8750\n",
            "Epoch 33/50\n",
            "16/16 [==============================] - 16s 1s/step - loss: 0.0366 - accuracy: 0.9812 - val_loss: 0.4203 - val_accuracy: 0.8929\n",
            "Epoch 34/50\n",
            "16/16 [==============================] - 16s 1s/step - loss: 0.0129 - accuracy: 0.9984 - val_loss: 0.4456 - val_accuracy: 0.9107\n",
            "Epoch 35/50\n",
            "16/16 [==============================] - 17s 1s/step - loss: 0.0397 - accuracy: 0.9814 - val_loss: 0.3630 - val_accuracy: 0.8929\n",
            "Epoch 36/50\n",
            "16/16 [==============================] - 16s 1s/step - loss: 0.0185 - accuracy: 0.9987 - val_loss: 0.3506 - val_accuracy: 0.9107\n",
            "Epoch 37/50\n",
            "16/16 [==============================] - 16s 1s/step - loss: 0.0180 - accuracy: 0.9949 - val_loss: 0.3156 - val_accuracy: 0.9464\n",
            "Epoch 38/50\n",
            "16/16 [==============================] - 16s 1s/step - loss: 0.0141 - accuracy: 0.9930 - val_loss: 0.5114 - val_accuracy: 0.9107\n",
            "Epoch 39/50\n",
            "16/16 [==============================] - 16s 1s/step - loss: 0.0172 - accuracy: 0.9952 - val_loss: 0.3631 - val_accuracy: 0.9286\n",
            "Epoch 40/50\n",
            "16/16 [==============================] - 16s 1s/step - loss: 0.0064 - accuracy: 0.9989 - val_loss: 0.3116 - val_accuracy: 0.9464\n",
            "Epoch 41/50\n",
            "16/16 [==============================] - 16s 1s/step - loss: 0.0028 - accuracy: 1.0000 - val_loss: 0.3076 - val_accuracy: 0.9464\n",
            "Epoch 42/50\n",
            "16/16 [==============================] - 16s 1s/step - loss: 0.0031 - accuracy: 0.9996 - val_loss: 0.3205 - val_accuracy: 0.9464\n",
            "Epoch 43/50\n",
            "16/16 [==============================] - 16s 1s/step - loss: 0.0089 - accuracy: 0.9970 - val_loss: 0.3563 - val_accuracy: 0.9464\n",
            "Epoch 44/50\n",
            "16/16 [==============================] - 16s 1s/step - loss: 0.0025 - accuracy: 1.0000 - val_loss: 0.4030 - val_accuracy: 0.9464\n",
            "Epoch 45/50\n",
            "16/16 [==============================] - 16s 1s/step - loss: 0.0031 - accuracy: 0.9998 - val_loss: 0.4130 - val_accuracy: 0.9464\n",
            "Epoch 46/50\n",
            "16/16 [==============================] - 16s 1s/step - loss: 0.0082 - accuracy: 0.9967 - val_loss: 0.5407 - val_accuracy: 0.9107\n",
            "Epoch 47/50\n",
            "16/16 [==============================] - 16s 1s/step - loss: 0.0182 - accuracy: 0.9892 - val_loss: 0.5847 - val_accuracy: 0.8929\n",
            "Epoch 48/50\n",
            "16/16 [==============================] - 16s 1s/step - loss: 0.0111 - accuracy: 0.9961 - val_loss: 0.7289 - val_accuracy: 0.8750\n",
            "Epoch 49/50\n",
            "16/16 [==============================] - 16s 1s/step - loss: 0.0093 - accuracy: 0.9932 - val_loss: 0.4191 - val_accuracy: 0.9464\n",
            "Epoch 50/50\n",
            "16/16 [==============================] - 16s 1s/step - loss: 0.0080 - accuracy: 0.9970 - val_loss: 0.4142 - val_accuracy: 0.9464\n"
          ],
          "name": "stdout"
        }
      ]
    },
    {
      "cell_type": "code",
      "metadata": {
        "colab": {
          "base_uri": "https://localhost:8080/",
          "height": 541
        },
        "id": "sgr6yhFOgKpq",
        "outputId": "c6891750-6a68-48ed-8796-fbb04c9bd8f5"
      },
      "source": [
        "def plot_graphs(history, string):\n",
        "  plt.plot(history.history[string])\n",
        "  plt.plot(history.history['val_'+string])\n",
        "  plt.xlabel(\"Epochs\")\n",
        "  plt.ylabel(string)\n",
        "  plt.legend([string, 'val_'+string])\n",
        "  plt.show()\n",
        "  \n",
        "plot_graphs(history, \"accuracy\")\n",
        "plot_graphs(history, \"loss\")"
      ],
      "execution_count": null,
      "outputs": [
        {
          "output_type": "display_data",
          "data": {
            "image/png": "[encoded data removed]",
            "text/plain": [
              "<Figure size 432x288 with 1 Axes>"
            ]
          },
          "metadata": {
            "tags": [],
            "needs_background": "light"
          }
        },
        {
          "output_type": "display_data",
          "data": {
            "image/png": "[encoded data removed]",
            "text/plain": [
              "<Figure size 432x288 with 1 Axes>"
            ]
          },
          "metadata": {
            "tags": [],
            "needs_background": "light"
          }
        }
      ]
    },
    {
      "cell_type": "markdown",
      "metadata": {
        "id": "GDicNffVFaZE"
      },
      "source": [
        "Predicting with random user inputs "
      ]
    },
    {
      "cell_type": "code",
      "metadata": {
        "colab": {
          "base_uri": "https://localhost:8080/"
        },
        "id": "a5yM4BXZXqaP",
        "outputId": "75c123c8-6886-4963-9c1a-6bfe4731cdf6"
      },
      "source": [
        "\n",
        "new_incident = ['When the electrician tried to turn on the electricity, he touched the metal box (called a breaker panel), and this made a flash that hurt him. He collapsed immediately and later was rushed to the hospital.']\n",
        "seq = tokenizer.texts_to_sequences(new_incident)\n",
        "padded = pad_sequences(seq, maxlen=200)\n",
        "pred = model_LSTM.predict(padded)\n",
        "labels = [1,2,3,4,5]\n",
        "print(\" The predicted label of the same text is {}\".format(labels[np.argmax(pred)]))"
      ],
      "execution_count": null,
      "outputs": [
        {
          "output_type": "stream",
          "text": [
            "WARNING:tensorflow:Model was constructed with shape (None, 250) for input KerasTensor(type_spec=TensorSpec(shape=(None, 250), dtype=tf.float32, name='embedding_input'), name='embedding_input', description=\"created by layer 'embedding_input'\"), but it was called on an input with incompatible shape (None, 200).\n",
            " The predicted label of the same text is 2\n"
          ],
          "name": "stdout"
        }
      ]
    },
    {
      "cell_type": "markdown",
      "metadata": {
        "id": "5hdvL5FmgQu0"
      },
      "source": [
        "Testing Performance metric with Test Data"
      ]
    },
    {
      "cell_type": "code",
      "metadata": {
        "colab": {
          "base_uri": "https://localhost:8080/"
        },
        "id": "s5tClgS0jIIt",
        "outputId": "eddf505a-4f5c-43dd-8246-c53e03875a63"
      },
      "source": [
        "data_validation[\"Accident Level\"].value_counts()"
      ],
      "execution_count": null,
      "outputs": [
        {
          "output_type": "execute_result",
          "data": {
            "text/plain": [
              "1    42\n",
              "2    18\n",
              "3    16\n",
              "4    14\n",
              "5     9\n",
              "Name: Accident Level, dtype: int64"
            ]
          },
          "metadata": {
            "tags": []
          },
          "execution_count": 28
        }
      ]
    },
    {
      "cell_type": "code",
      "metadata": {
        "colab": {
          "base_uri": "https://localhost:8080/"
        },
        "id": "QHITGPnKgZxK",
        "outputId": "6738de6d-cd95-4270-d375-ef509497a7d6"
      },
      "source": [
        "X_test = tokenizer.texts_to_sequences(data_validation['Combined_text'].values)\n",
        "X_test = pad_sequences(X_test, maxlen=MAX_SEQUENCE_LENGTH)\n",
        "print('Shape of data tensor:', X_test.shape)"
      ],
      "execution_count": 51,
      "outputs": [
        {
          "output_type": "stream",
          "text": [
            "Shape of data tensor: (99, 250)\n"
          ],
          "name": "stdout"
        }
      ]
    },
    {
      "cell_type": "code",
      "metadata": {
        "id": "5RxpXggHgZz6"
      },
      "source": [
        "y_test = (data_validation['Accident Level'])"
      ],
      "execution_count": 55,
      "outputs": []
    },
    {
      "cell_type": "code",
      "metadata": {
        "id": "UndJgmv9hHUR"
      },
      "source": [
        "Y_Pred = model_LSTM.predict(X_test)"
      ],
      "execution_count": null,
      "outputs": []
    },
    {
      "cell_type": "code",
      "metadata": {
        "colab": {
          "base_uri": "https://localhost:8080/"
        },
        "id": "SGDo_3rrw3f5",
        "outputId": "69274470-29f9-4c0d-d3ca-50d29fc705d0"
      },
      "source": [
        "type(y_test)"
      ],
      "execution_count": null,
      "outputs": [
        {
          "output_type": "execute_result",
          "data": {
            "text/plain": [
              "pandas.core.series.Series"
            ]
          },
          "metadata": {
            "tags": []
          },
          "execution_count": 32
        }
      ]
    },
    {
      "cell_type": "code",
      "metadata": {
        "id": "2SG49qjcw35p"
      },
      "source": [
        "Y_Pred = Y_Pred.tolist()"
      ],
      "execution_count": null,
      "outputs": []
    },
    {
      "cell_type": "code",
      "metadata": {
        "id": "y6Hdf46GgZ2D"
      },
      "source": [
        "labels = [1,2,3,4,5]\n",
        "Y_pred_arr = []\n",
        "for item in Y_Pred:\n",
        "  Y_pred_arr.append(labels[np.argmax(item)])"
      ],
      "execution_count": null,
      "outputs": []
    },
    {
      "cell_type": "code",
      "metadata": {
        "colab": {
          "base_uri": "https://localhost:8080/"
        },
        "id": "H6_6-e4Lwt53",
        "outputId": "2643b12e-2738-492d-d9c0-de7619ed1948"
      },
      "source": [
        "from sklearn.metrics import classification_report\n",
        "\n",
        "print(classification_report(y_test, Y_pred_arr))\n"
      ],
      "execution_count": null,
      "outputs": [
        {
          "output_type": "stream",
          "text": [
            "              precision    recall  f1-score   support\n",
            "\n",
            "           1       0.90      0.88      0.89        42\n",
            "           2       0.76      0.89      0.82        18\n",
            "           3       1.00      0.81      0.90        16\n",
            "           4       0.87      0.93      0.90        14\n",
            "           5       1.00      1.00      1.00         9\n",
            "\n",
            "    accuracy                           0.89        99\n",
            "   macro avg       0.91      0.90      0.90        99\n",
            "weighted avg       0.90      0.89      0.89        99\n",
            "\n"
          ],
          "name": "stdout"
        }
      ]
    },
    {
      "cell_type": "code",
      "metadata": {
        "id": "PXwzAPHHMMjz"
      },
      "source": [
        "data_raw = pd.read_csv(\"/content/drive/MyDrive/Data for Capstone/DataRaw.csv\")"
      ],
      "execution_count": 26,
      "outputs": []
    },
    {
      "cell_type": "code",
      "metadata": {
        "colab": {
          "base_uri": "https://localhost:8080/",
          "height": 206
        },
        "id": "XT0SJ_JbfD6r",
        "outputId": "ae5332fa-bcf4-4187-9d31-04bbc8a038fd"
      },
      "source": [
        "data_raw.head()"
      ],
      "execution_count": 27,
      "outputs": [
        {
          "output_type": "execute_result",
          "data": {
            "text/html": [
              "<div>\n",
              "<style scoped>\n",
              "    .dataframe tbody tr th:only-of-type {\n",
              "        vertical-align: middle;\n",
              "    }\n",
              "\n",
              "    .dataframe tbody tr th {\n",
              "        vertical-align: top;\n",
              "    }\n",
              "\n",
              "    .dataframe thead th {\n",
              "        text-align: right;\n",
              "    }\n",
              "</style>\n",
              "<table border=\"1\" class=\"dataframe\">\n",
              "  <thead>\n",
              "    <tr style=\"text-align: right;\">\n",
              "      <th></th>\n",
              "      <th>Unnamed: 0</th>\n",
              "      <th>Data</th>\n",
              "      <th>Countries</th>\n",
              "      <th>Local</th>\n",
              "      <th>Industry Sector</th>\n",
              "      <th>Accident Level</th>\n",
              "      <th>Potential Accident Level</th>\n",
              "      <th>Genre</th>\n",
              "      <th>Employee or Third Party</th>\n",
              "      <th>Critical Risk</th>\n",
              "      <th>Description</th>\n",
              "    </tr>\n",
              "  </thead>\n",
              "  <tbody>\n",
              "    <tr>\n",
              "      <th>0</th>\n",
              "      <td>0</td>\n",
              "      <td>2016-01-01 00:00:00</td>\n",
              "      <td>Country_01</td>\n",
              "      <td>Local_01</td>\n",
              "      <td>Mining</td>\n",
              "      <td>I</td>\n",
              "      <td>IV</td>\n",
              "      <td>Male</td>\n",
              "      <td>Third Party</td>\n",
              "      <td>Pressed</td>\n",
              "      <td>While removing the drill rod of the Jumbo 08 f...</td>\n",
              "    </tr>\n",
              "    <tr>\n",
              "      <th>1</th>\n",
              "      <td>1</td>\n",
              "      <td>2016-01-02 00:00:00</td>\n",
              "      <td>Country_02</td>\n",
              "      <td>Local_02</td>\n",
              "      <td>Mining</td>\n",
              "      <td>I</td>\n",
              "      <td>IV</td>\n",
              "      <td>Male</td>\n",
              "      <td>Employee</td>\n",
              "      <td>Pressurized Systems</td>\n",
              "      <td>During the activation of a sodium sulphide pum...</td>\n",
              "    </tr>\n",
              "    <tr>\n",
              "      <th>2</th>\n",
              "      <td>2</td>\n",
              "      <td>2016-01-06 00:00:00</td>\n",
              "      <td>Country_01</td>\n",
              "      <td>Local_03</td>\n",
              "      <td>Mining</td>\n",
              "      <td>I</td>\n",
              "      <td>III</td>\n",
              "      <td>Male</td>\n",
              "      <td>Third Party (Remote)</td>\n",
              "      <td>Manual Tools</td>\n",
              "      <td>In the sub-station MILPO located at level +170...</td>\n",
              "    </tr>\n",
              "    <tr>\n",
              "      <th>3</th>\n",
              "      <td>3</td>\n",
              "      <td>2016-01-08 00:00:00</td>\n",
              "      <td>Country_01</td>\n",
              "      <td>Local_04</td>\n",
              "      <td>Mining</td>\n",
              "      <td>I</td>\n",
              "      <td>I</td>\n",
              "      <td>Male</td>\n",
              "      <td>Third Party</td>\n",
              "      <td>Others</td>\n",
              "      <td>Being 9:45 am. approximately in the Nv. 1880 C...</td>\n",
              "    </tr>\n",
              "    <tr>\n",
              "      <th>4</th>\n",
              "      <td>4</td>\n",
              "      <td>2016-01-10 00:00:00</td>\n",
              "      <td>Country_01</td>\n",
              "      <td>Local_04</td>\n",
              "      <td>Mining</td>\n",
              "      <td>IV</td>\n",
              "      <td>IV</td>\n",
              "      <td>Male</td>\n",
              "      <td>Third Party</td>\n",
              "      <td>Others</td>\n",
              "      <td>Approximately at 11:45 a.m. in circumstances t...</td>\n",
              "    </tr>\n",
              "  </tbody>\n",
              "</table>\n",
              "</div>"
            ],
            "text/plain": [
              "   Unnamed: 0  ...                                        Description\n",
              "0           0  ...  While removing the drill rod of the Jumbo 08 f...\n",
              "1           1  ...  During the activation of a sodium sulphide pum...\n",
              "2           2  ...  In the sub-station MILPO located at level +170...\n",
              "3           3  ...  Being 9:45 am. approximately in the Nv. 1880 C...\n",
              "4           4  ...  Approximately at 11:45 a.m. in circumstances t...\n",
              "\n",
              "[5 rows x 11 columns]"
            ]
          },
          "metadata": {
            "tags": []
          },
          "execution_count": 27
        }
      ]
    },
    {
      "cell_type": "code",
      "metadata": {
        "id": "dOivb6E5rxzX"
      },
      "source": [
        "data_raw = data_raw.drop(columns=[\"Unnamed: 0\",\"Critical Risk\"],axis =1)"
      ],
      "execution_count": 28,
      "outputs": []
    },
    {
      "cell_type": "code",
      "metadata": {
        "id": "z14L-X1FtWfx"
      },
      "source": [
        "data_raw['Date'] = pd.to_datetime(data_raw['Data']) #Converting the date column to date type leaving out the time component\n",
        "data_raw['Year'] = data_raw['Date'].apply(lambda x : x.year)\n",
        "data_raw['Month'] = data_raw['Date'].apply(lambda x : x.month)\n",
        "data_raw['Day'] = data_raw['Date'].apply(lambda x : x.day)\n",
        "data_raw['Weekday'] = data_raw['Date'].apply(lambda x : x.dayofweek)\n",
        "data_raw['WeekofYear'] = data_raw['Date'].apply(lambda x : x.weekofyear)"
      ],
      "execution_count": 29,
      "outputs": []
    },
    {
      "cell_type": "code",
      "metadata": {
        "id": "8cTKbzQMsB6C"
      },
      "source": [
        "data_raw[\"Combined_text\"] = \"\"\n",
        "for row in range(0,data_raw.shape[0]):\n",
        "  data_raw[\"Combined_text\"][row] = \" The decription of the incident is {}. The incident happned in {} and {} area. The industry is {}. The potential level was {}. This was reported by a {}. The affected party was a {}. The year was {}. The month was {}. the day was {}\".format(data_raw[\"Description\"][row],data_raw[\"Countries\"][row],data_raw[\"Local\"][row],data_raw[\"Industry Sector\"][row],data_raw[\"Potential Accident Level\"][row],data_raw[\"Genre\"][row],data_raw[\"Employee or Third Party\"][row],data_raw[\"Year\"][row],data_raw[\"Month\"][row],data_raw[\"Day\"][row])"
      ],
      "execution_count": 30,
      "outputs": []
    },
    {
      "cell_type": "code",
      "metadata": {
        "colab": {
          "base_uri": "https://localhost:8080/",
          "height": 310
        },
        "id": "bWo8LLrqt6rF",
        "outputId": "c7ba86cd-9efe-4fb8-e5bb-47c873fedd28"
      },
      "source": [
        "data_raw.head()"
      ],
      "execution_count": 31,
      "outputs": [
        {
          "output_type": "execute_result",
          "data": {
            "text/html": [
              "<div>\n",
              "<style scoped>\n",
              "    .dataframe tbody tr th:only-of-type {\n",
              "        vertical-align: middle;\n",
              "    }\n",
              "\n",
              "    .dataframe tbody tr th {\n",
              "        vertical-align: top;\n",
              "    }\n",
              "\n",
              "    .dataframe thead th {\n",
              "        text-align: right;\n",
              "    }\n",
              "</style>\n",
              "<table border=\"1\" class=\"dataframe\">\n",
              "  <thead>\n",
              "    <tr style=\"text-align: right;\">\n",
              "      <th></th>\n",
              "      <th>Data</th>\n",
              "      <th>Countries</th>\n",
              "      <th>Local</th>\n",
              "      <th>Industry Sector</th>\n",
              "      <th>Accident Level</th>\n",
              "      <th>Potential Accident Level</th>\n",
              "      <th>Genre</th>\n",
              "      <th>Employee or Third Party</th>\n",
              "      <th>Description</th>\n",
              "      <th>Date</th>\n",
              "      <th>Year</th>\n",
              "      <th>Month</th>\n",
              "      <th>Day</th>\n",
              "      <th>Weekday</th>\n",
              "      <th>WeekofYear</th>\n",
              "      <th>Combined_text</th>\n",
              "    </tr>\n",
              "  </thead>\n",
              "  <tbody>\n",
              "    <tr>\n",
              "      <th>0</th>\n",
              "      <td>2016-01-01 00:00:00</td>\n",
              "      <td>Country_01</td>\n",
              "      <td>Local_01</td>\n",
              "      <td>Mining</td>\n",
              "      <td>I</td>\n",
              "      <td>IV</td>\n",
              "      <td>Male</td>\n",
              "      <td>Third Party</td>\n",
              "      <td>While removing the drill rod of the Jumbo 08 f...</td>\n",
              "      <td>2016-01-01</td>\n",
              "      <td>2016</td>\n",
              "      <td>1</td>\n",
              "      <td>1</td>\n",
              "      <td>4</td>\n",
              "      <td>53</td>\n",
              "      <td>The decription of the incident is While remov...</td>\n",
              "    </tr>\n",
              "    <tr>\n",
              "      <th>1</th>\n",
              "      <td>2016-01-02 00:00:00</td>\n",
              "      <td>Country_02</td>\n",
              "      <td>Local_02</td>\n",
              "      <td>Mining</td>\n",
              "      <td>I</td>\n",
              "      <td>IV</td>\n",
              "      <td>Male</td>\n",
              "      <td>Employee</td>\n",
              "      <td>During the activation of a sodium sulphide pum...</td>\n",
              "      <td>2016-01-02</td>\n",
              "      <td>2016</td>\n",
              "      <td>1</td>\n",
              "      <td>2</td>\n",
              "      <td>5</td>\n",
              "      <td>53</td>\n",
              "      <td>The decription of the incident is During the ...</td>\n",
              "    </tr>\n",
              "    <tr>\n",
              "      <th>2</th>\n",
              "      <td>2016-01-06 00:00:00</td>\n",
              "      <td>Country_01</td>\n",
              "      <td>Local_03</td>\n",
              "      <td>Mining</td>\n",
              "      <td>I</td>\n",
              "      <td>III</td>\n",
              "      <td>Male</td>\n",
              "      <td>Third Party (Remote)</td>\n",
              "      <td>In the sub-station MILPO located at level +170...</td>\n",
              "      <td>2016-01-06</td>\n",
              "      <td>2016</td>\n",
              "      <td>1</td>\n",
              "      <td>6</td>\n",
              "      <td>2</td>\n",
              "      <td>1</td>\n",
              "      <td>The decription of the incident is In the sub-...</td>\n",
              "    </tr>\n",
              "    <tr>\n",
              "      <th>3</th>\n",
              "      <td>2016-01-08 00:00:00</td>\n",
              "      <td>Country_01</td>\n",
              "      <td>Local_04</td>\n",
              "      <td>Mining</td>\n",
              "      <td>I</td>\n",
              "      <td>I</td>\n",
              "      <td>Male</td>\n",
              "      <td>Third Party</td>\n",
              "      <td>Being 9:45 am. approximately in the Nv. 1880 C...</td>\n",
              "      <td>2016-01-08</td>\n",
              "      <td>2016</td>\n",
              "      <td>1</td>\n",
              "      <td>8</td>\n",
              "      <td>4</td>\n",
              "      <td>1</td>\n",
              "      <td>The decription of the incident is Being 9:45 ...</td>\n",
              "    </tr>\n",
              "    <tr>\n",
              "      <th>4</th>\n",
              "      <td>2016-01-10 00:00:00</td>\n",
              "      <td>Country_01</td>\n",
              "      <td>Local_04</td>\n",
              "      <td>Mining</td>\n",
              "      <td>IV</td>\n",
              "      <td>IV</td>\n",
              "      <td>Male</td>\n",
              "      <td>Third Party</td>\n",
              "      <td>Approximately at 11:45 a.m. in circumstances t...</td>\n",
              "      <td>2016-01-10</td>\n",
              "      <td>2016</td>\n",
              "      <td>1</td>\n",
              "      <td>10</td>\n",
              "      <td>6</td>\n",
              "      <td>1</td>\n",
              "      <td>The decription of the incident is Approximate...</td>\n",
              "    </tr>\n",
              "  </tbody>\n",
              "</table>\n",
              "</div>"
            ],
            "text/plain": [
              "                  Data  ...                                      Combined_text\n",
              "0  2016-01-01 00:00:00  ...   The decription of the incident is While remov...\n",
              "1  2016-01-02 00:00:00  ...   The decription of the incident is During the ...\n",
              "2  2016-01-06 00:00:00  ...   The decription of the incident is In the sub-...\n",
              "3  2016-01-08 00:00:00  ...   The decription of the incident is Being 9:45 ...\n",
              "4  2016-01-10 00:00:00  ...   The decription of the incident is Approximate...\n",
              "\n",
              "[5 rows x 16 columns]"
            ]
          },
          "metadata": {
            "tags": []
          },
          "execution_count": 31
        }
      ]
    },
    {
      "cell_type": "code",
      "metadata": {
        "id": "a46CQC6juFpY"
      },
      "source": [
        "data_raw = data_raw.drop(columns=[\"Data\",\"Countries\",\"Local\",\"Industry Sector\",\"Potential Accident Level\",\"Genre\",\"Employee or Third Party\",\"Description\",\"Date\",\"Year\",\"Month\",\"Day\",\"Weekday\",\"WeekofYear\"],axis =1)"
      ],
      "execution_count": 32,
      "outputs": []
    },
    {
      "cell_type": "code",
      "metadata": {
        "colab": {
          "base_uri": "https://localhost:8080/",
          "height": 206
        },
        "id": "mhdouQ2Puffr",
        "outputId": "c5e6da08-06d8-4744-da3f-6a227b0ca20c"
      },
      "source": [
        "data_raw.head()"
      ],
      "execution_count": 33,
      "outputs": [
        {
          "output_type": "execute_result",
          "data": {
            "text/html": [
              "<div>\n",
              "<style scoped>\n",
              "    .dataframe tbody tr th:only-of-type {\n",
              "        vertical-align: middle;\n",
              "    }\n",
              "\n",
              "    .dataframe tbody tr th {\n",
              "        vertical-align: top;\n",
              "    }\n",
              "\n",
              "    .dataframe thead th {\n",
              "        text-align: right;\n",
              "    }\n",
              "</style>\n",
              "<table border=\"1\" class=\"dataframe\">\n",
              "  <thead>\n",
              "    <tr style=\"text-align: right;\">\n",
              "      <th></th>\n",
              "      <th>Accident Level</th>\n",
              "      <th>Combined_text</th>\n",
              "    </tr>\n",
              "  </thead>\n",
              "  <tbody>\n",
              "    <tr>\n",
              "      <th>0</th>\n",
              "      <td>I</td>\n",
              "      <td>The decription of the incident is While remov...</td>\n",
              "    </tr>\n",
              "    <tr>\n",
              "      <th>1</th>\n",
              "      <td>I</td>\n",
              "      <td>The decription of the incident is During the ...</td>\n",
              "    </tr>\n",
              "    <tr>\n",
              "      <th>2</th>\n",
              "      <td>I</td>\n",
              "      <td>The decription of the incident is In the sub-...</td>\n",
              "    </tr>\n",
              "    <tr>\n",
              "      <th>3</th>\n",
              "      <td>I</td>\n",
              "      <td>The decription of the incident is Being 9:45 ...</td>\n",
              "    </tr>\n",
              "    <tr>\n",
              "      <th>4</th>\n",
              "      <td>IV</td>\n",
              "      <td>The decription of the incident is Approximate...</td>\n",
              "    </tr>\n",
              "  </tbody>\n",
              "</table>\n",
              "</div>"
            ],
            "text/plain": [
              "  Accident Level                                      Combined_text\n",
              "0              I   The decription of the incident is While remov...\n",
              "1              I   The decription of the incident is During the ...\n",
              "2              I   The decription of the incident is In the sub-...\n",
              "3              I   The decription of the incident is Being 9:45 ...\n",
              "4             IV   The decription of the incident is Approximate..."
            ]
          },
          "metadata": {
            "tags": []
          },
          "execution_count": 33
        }
      ]
    },
    {
      "cell_type": "code",
      "metadata": {
        "id": "R6LSG64YuhK3"
      },
      "source": [
        "data_raw[\"Accident Level\"]= data_raw['Accident Level'].astype('category')"
      ],
      "execution_count": 34,
      "outputs": []
    },
    {
      "cell_type": "code",
      "metadata": {
        "colab": {
          "base_uri": "https://localhost:8080/",
          "height": 206
        },
        "id": "ZVV-yxJBu411",
        "outputId": "e7ddcc6d-c453-49c9-f237-e256b6efa63d"
      },
      "source": [
        "data_raw.head()"
      ],
      "execution_count": 35,
      "outputs": [
        {
          "output_type": "execute_result",
          "data": {
            "text/html": [
              "<div>\n",
              "<style scoped>\n",
              "    .dataframe tbody tr th:only-of-type {\n",
              "        vertical-align: middle;\n",
              "    }\n",
              "\n",
              "    .dataframe tbody tr th {\n",
              "        vertical-align: top;\n",
              "    }\n",
              "\n",
              "    .dataframe thead th {\n",
              "        text-align: right;\n",
              "    }\n",
              "</style>\n",
              "<table border=\"1\" class=\"dataframe\">\n",
              "  <thead>\n",
              "    <tr style=\"text-align: right;\">\n",
              "      <th></th>\n",
              "      <th>Accident Level</th>\n",
              "      <th>Combined_text</th>\n",
              "    </tr>\n",
              "  </thead>\n",
              "  <tbody>\n",
              "    <tr>\n",
              "      <th>0</th>\n",
              "      <td>I</td>\n",
              "      <td>The decription of the incident is While remov...</td>\n",
              "    </tr>\n",
              "    <tr>\n",
              "      <th>1</th>\n",
              "      <td>I</td>\n",
              "      <td>The decription of the incident is During the ...</td>\n",
              "    </tr>\n",
              "    <tr>\n",
              "      <th>2</th>\n",
              "      <td>I</td>\n",
              "      <td>The decription of the incident is In the sub-...</td>\n",
              "    </tr>\n",
              "    <tr>\n",
              "      <th>3</th>\n",
              "      <td>I</td>\n",
              "      <td>The decription of the incident is Being 9:45 ...</td>\n",
              "    </tr>\n",
              "    <tr>\n",
              "      <th>4</th>\n",
              "      <td>IV</td>\n",
              "      <td>The decription of the incident is Approximate...</td>\n",
              "    </tr>\n",
              "  </tbody>\n",
              "</table>\n",
              "</div>"
            ],
            "text/plain": [
              "  Accident Level                                      Combined_text\n",
              "0              I   The decription of the incident is While remov...\n",
              "1              I   The decription of the incident is During the ...\n",
              "2              I   The decription of the incident is In the sub-...\n",
              "3              I   The decription of the incident is Being 9:45 ...\n",
              "4             IV   The decription of the incident is Approximate..."
            ]
          },
          "metadata": {
            "tags": []
          },
          "execution_count": 35
        }
      ]
    },
    {
      "cell_type": "code",
      "metadata": {
        "id": "ooz4gIpnu6KG"
      },
      "source": [
        "# Update values in the target variable\n",
        "def convertRomanToNumerical(number):\n",
        "  if number == '':\n",
        "    return 0\n",
        "  elif number == 'I':\n",
        "    return 1\n",
        "  elif number == 'II':\n",
        "    return 2\n",
        "  elif number == 'III':\n",
        "    return 3\n",
        "  elif number == 'IV':\n",
        "    return 4\n",
        "  elif number == 'V':\n",
        "    return 5\n",
        "  elif number == 'VI':\n",
        "    return 6\n",
        "  else:\n",
        "    return 0\n",
        "\n"
      ],
      "execution_count": 36,
      "outputs": []
    },
    {
      "cell_type": "code",
      "metadata": {
        "id": "l8MV3Xw4u-_u"
      },
      "source": [
        "data_raw['Accident Level'] = data_raw['Accident Level'].apply(convertRomanToNumerical)"
      ],
      "execution_count": 37,
      "outputs": []
    },
    {
      "cell_type": "code",
      "metadata": {
        "colab": {
          "base_uri": "https://localhost:8080/",
          "height": 206
        },
        "id": "lS756n-gvOsY",
        "outputId": "eef38773-ab7c-4761-82d9-438a351debc2"
      },
      "source": [
        "data_raw.head()"
      ],
      "execution_count": 38,
      "outputs": [
        {
          "output_type": "execute_result",
          "data": {
            "text/html": [
              "<div>\n",
              "<style scoped>\n",
              "    .dataframe tbody tr th:only-of-type {\n",
              "        vertical-align: middle;\n",
              "    }\n",
              "\n",
              "    .dataframe tbody tr th {\n",
              "        vertical-align: top;\n",
              "    }\n",
              "\n",
              "    .dataframe thead th {\n",
              "        text-align: right;\n",
              "    }\n",
              "</style>\n",
              "<table border=\"1\" class=\"dataframe\">\n",
              "  <thead>\n",
              "    <tr style=\"text-align: right;\">\n",
              "      <th></th>\n",
              "      <th>Accident Level</th>\n",
              "      <th>Combined_text</th>\n",
              "    </tr>\n",
              "  </thead>\n",
              "  <tbody>\n",
              "    <tr>\n",
              "      <th>0</th>\n",
              "      <td>1</td>\n",
              "      <td>The decription of the incident is While remov...</td>\n",
              "    </tr>\n",
              "    <tr>\n",
              "      <th>1</th>\n",
              "      <td>1</td>\n",
              "      <td>The decription of the incident is During the ...</td>\n",
              "    </tr>\n",
              "    <tr>\n",
              "      <th>2</th>\n",
              "      <td>1</td>\n",
              "      <td>The decription of the incident is In the sub-...</td>\n",
              "    </tr>\n",
              "    <tr>\n",
              "      <th>3</th>\n",
              "      <td>1</td>\n",
              "      <td>The decription of the incident is Being 9:45 ...</td>\n",
              "    </tr>\n",
              "    <tr>\n",
              "      <th>4</th>\n",
              "      <td>4</td>\n",
              "      <td>The decription of the incident is Approximate...</td>\n",
              "    </tr>\n",
              "  </tbody>\n",
              "</table>\n",
              "</div>"
            ],
            "text/plain": [
              "  Accident Level                                      Combined_text\n",
              "0              1   The decription of the incident is While remov...\n",
              "1              1   The decription of the incident is During the ...\n",
              "2              1   The decription of the incident is In the sub-...\n",
              "3              1   The decription of the incident is Being 9:45 ...\n",
              "4              4   The decription of the incident is Approximate..."
            ]
          },
          "metadata": {
            "tags": []
          },
          "execution_count": 38
        }
      ]
    },
    {
      "cell_type": "code",
      "metadata": {
        "colab": {
          "base_uri": "https://localhost:8080/"
        },
        "id": "adJ5kB0k9N2H",
        "outputId": "097ba16a-0f2d-49c6-b8ac-7836c8411d9d"
      },
      "source": [
        "clean_balanced_headlines = []\n",
        "for headline in data_raw['Combined_text']:\n",
        "  clean_balanced_headlines.append(clean_text(headline, remove_stopwords = True))\n",
        "print('Data is cleaned!')"
      ],
      "execution_count": 39,
      "outputs": [
        {
          "output_type": "stream",
          "text": [
            "Data is cleaned!\n"
          ],
          "name": "stdout"
        }
      ]
    },
    {
      "cell_type": "code",
      "metadata": {
        "colab": {
          "base_uri": "https://localhost:8080/",
          "height": 206
        },
        "id": "91RNP8lv9ZPt",
        "outputId": "4a80a546-8d4b-4155-e1b4-3362b6fca0a7"
      },
      "source": [
        "data_raw['Combined_text'] = clean_balanced_headlines\n",
        "data_raw.head()"
      ],
      "execution_count": 40,
      "outputs": [
        {
          "output_type": "execute_result",
          "data": {
            "text/html": [
              "<div>\n",
              "<style scoped>\n",
              "    .dataframe tbody tr th:only-of-type {\n",
              "        vertical-align: middle;\n",
              "    }\n",
              "\n",
              "    .dataframe tbody tr th {\n",
              "        vertical-align: top;\n",
              "    }\n",
              "\n",
              "    .dataframe thead th {\n",
              "        text-align: right;\n",
              "    }\n",
              "</style>\n",
              "<table border=\"1\" class=\"dataframe\">\n",
              "  <thead>\n",
              "    <tr style=\"text-align: right;\">\n",
              "      <th></th>\n",
              "      <th>Accident Level</th>\n",
              "      <th>Combined_text</th>\n",
              "    </tr>\n",
              "  </thead>\n",
              "  <tbody>\n",
              "    <tr>\n",
              "      <th>0</th>\n",
              "      <td>1</td>\n",
              "      <td>decription incident removing drill rod jumbo 0...</td>\n",
              "    </tr>\n",
              "    <tr>\n",
              "      <th>1</th>\n",
              "      <td>1</td>\n",
              "      <td>decription incident activation sodium sulphide...</td>\n",
              "    </tr>\n",
              "    <tr>\n",
              "      <th>2</th>\n",
              "      <td>1</td>\n",
              "      <td>decription incident sub station milpo located ...</td>\n",
              "    </tr>\n",
              "    <tr>\n",
              "      <th>3</th>\n",
              "      <td>1</td>\n",
              "      <td>decription incident 9 45 approximately nv 1880...</td>\n",
              "    </tr>\n",
              "    <tr>\n",
              "      <th>4</th>\n",
              "      <td>4</td>\n",
              "      <td>decription incident approximately 11 45 circum...</td>\n",
              "    </tr>\n",
              "  </tbody>\n",
              "</table>\n",
              "</div>"
            ],
            "text/plain": [
              "  Accident Level                                      Combined_text\n",
              "0              1  decription incident removing drill rod jumbo 0...\n",
              "1              1  decription incident activation sodium sulphide...\n",
              "2              1  decription incident sub station milpo located ...\n",
              "3              1  decription incident 9 45 approximately nv 1880...\n",
              "4              4  decription incident approximately 11 45 circum..."
            ]
          },
          "metadata": {
            "tags": []
          },
          "execution_count": 40
        }
      ]
    },
    {
      "cell_type": "code",
      "metadata": {
        "colab": {
          "base_uri": "https://localhost:8080/"
        },
        "id": "aZxdF8g8vREW",
        "outputId": "c95f332a-cf09-4d78-be10-1b60f3654d95"
      },
      "source": [
        "# The maximum number of words to be used. (most frequent)\n",
        "MAX_NB_WORDS = 50000\n",
        "# Max number of words in each complaint.\n",
        "MAX_SEQUENCE_LENGTH = 250\n",
        "# This is fixed.\n",
        "EMBEDDING_DIM = 100\n",
        "\n",
        "tokenizer = Tokenizer(num_words=MAX_NB_WORDS, filters='!\"#$%&()*+,-./:;<=>?@[\\]^_`{|}~', lower=True)\n",
        "tokenizer.fit_on_texts(data_raw['Combined_text'].values)\n",
        "word_index = tokenizer.word_index\n",
        "print('Found %s unique tokens.' % len(word_index))"
      ],
      "execution_count": 41,
      "outputs": [
        {
          "output_type": "stream",
          "text": [
            "Found 3339 unique tokens.\n"
          ],
          "name": "stdout"
        }
      ]
    },
    {
      "cell_type": "code",
      "metadata": {
        "id": "o57kWdmvvYJX"
      },
      "source": [
        "data_raw = data_raw.sample(frac=1).reset_index(drop=True) # Shuffling the dataset before building model"
      ],
      "execution_count": 42,
      "outputs": []
    },
    {
      "cell_type": "code",
      "metadata": {
        "colab": {
          "base_uri": "https://localhost:8080/"
        },
        "id": "laQ6T7M-vd-_",
        "outputId": "dcff1216-9270-43a8-96bf-0f423f4b7ea8"
      },
      "source": [
        "train_size = int(len(data_raw) * training_portion)\n",
        "\n",
        "data_raw_train = data_raw.head(train_size)\n",
        "data_raw_validation = data_raw.tail(len(data)-train_size)\n",
        "\n",
        "print(len(data_raw_train))\n",
        "print(len(data_raw_validation))\n",
        "print(len(data_raw))"
      ],
      "execution_count": 43,
      "outputs": [
        {
          "output_type": "stream",
          "text": [
            "361\n",
            "297\n",
            "425\n"
          ],
          "name": "stdout"
        }
      ]
    },
    {
      "cell_type": "code",
      "metadata": {
        "colab": {
          "base_uri": "https://localhost:8080/"
        },
        "id": "Ep3Zm1m4vg7E",
        "outputId": "528ec73d-ad23-4507-c7be-11a029ab4b78"
      },
      "source": [
        "X_raw = tokenizer.texts_to_sequences(data_raw_train['Combined_text'].values)\n",
        "X_raw = pad_sequences(X_raw, maxlen=MAX_SEQUENCE_LENGTH)\n",
        "print('Shape of data tensor:', X_raw.shape)"
      ],
      "execution_count": 44,
      "outputs": [
        {
          "output_type": "stream",
          "text": [
            "Shape of data tensor: (361, 250)\n"
          ],
          "name": "stdout"
        }
      ]
    },
    {
      "cell_type": "code",
      "metadata": {
        "colab": {
          "base_uri": "https://localhost:8080/"
        },
        "id": "3leju2NIvwZs",
        "outputId": "0824650e-50fb-4d36-f6d1-1936018d48c3"
      },
      "source": [
        "Y_raw = pd.get_dummies(data_raw_train['Accident Level']).values\n",
        "print('Shape of label tensor:', Y_raw.shape)\n",
        "print(Y_raw)"
      ],
      "execution_count": 45,
      "outputs": [
        {
          "output_type": "stream",
          "text": [
            "Shape of label tensor: (361, 5)\n",
            "[[1 0 0 0 0]\n",
            " [1 0 0 0 0]\n",
            " [1 0 0 0 0]\n",
            " ...\n",
            " [1 0 0 0 0]\n",
            " [1 0 0 0 0]\n",
            " [1 0 0 0 0]]\n"
          ],
          "name": "stdout"
        }
      ]
    },
    {
      "cell_type": "code",
      "metadata": {
        "colab": {
          "base_uri": "https://localhost:8080/"
        },
        "id": "G_0BT1Ijv7qK",
        "outputId": "0801f9bf-151e-4465-e6fc-79da168b92c8"
      },
      "source": [
        "from sklearn.utils import class_weight\n",
        "class_weights = class_weight.compute_class_weight('balanced', np.unique(data['Accident Level'].values), data['Accident Level'].values)\n",
        "weight = {i : class_weights[i] for i in range(5)}\n",
        "print(weight)\n",
        "\n",
        "epochs = 50\n",
        "batch_size = 32\n",
        "\n",
        "history = model_LSTM.fit(X_raw, Y_raw, class_weight=weight, epochs=epochs, batch_size=batch_size,validation_split=0.1)"
      ],
      "execution_count": null,
      "outputs": [
        {
          "output_type": "stream",
          "text": [
            "{0: 0.41645569620253164, 1: 1.1855855855855857, 2: 1.3708333333333333, 3: 1.4786516853932585, 4: 2.860869565217391}\n",
            "Epoch 1/50\n",
            "11/11 [==============================] - 11s 1s/step - loss: 1.9010 - accuracy: 0.4259 - val_loss: 1.4899 - val_accuracy: 0.1892\n",
            "Epoch 2/50\n",
            "11/11 [==============================] - 11s 1s/step - loss: 1.0025 - accuracy: 0.5309 - val_loss: 1.2581 - val_accuracy: 0.6216\n",
            "Epoch 3/50\n",
            "11/11 [==============================] - 11s 1s/step - loss: 0.9353 - accuracy: 0.7160 - val_loss: 1.1658 - val_accuracy: 0.7027\n",
            "Epoch 4/50\n",
            "11/11 [==============================] - 11s 1s/step - loss: 0.9054 - accuracy: 0.7315 - val_loss: 1.2010 - val_accuracy: 0.7027\n",
            "Epoch 5/50\n",
            "11/11 [==============================] - 11s 1s/step - loss: 0.8620 - accuracy: 0.7377 - val_loss: 1.1738 - val_accuracy: 0.7027\n",
            "Epoch 6/50\n",
            "11/11 [==============================] - 11s 1s/step - loss: 0.8297 - accuracy: 0.7346 - val_loss: 1.1668 - val_accuracy: 0.6757\n",
            "Epoch 7/50\n",
            "11/11 [==============================] - 11s 1s/step - loss: 0.7846 - accuracy: 0.7407 - val_loss: 1.1066 - val_accuracy: 0.7027\n",
            "Epoch 8/50\n",
            "11/11 [==============================] - 11s 1s/step - loss: 0.7218 - accuracy: 0.7500 - val_loss: 1.1129 - val_accuracy: 0.7027\n",
            "Epoch 9/50\n",
            "11/11 [==============================] - 11s 1s/step - loss: 0.6475 - accuracy: 0.7562 - val_loss: 1.1506 - val_accuracy: 0.6757\n",
            "Epoch 10/50\n",
            "11/11 [==============================] - 11s 1s/step - loss: 0.5890 - accuracy: 0.7716 - val_loss: 1.0892 - val_accuracy: 0.6757\n",
            "Epoch 11/50\n",
            "11/11 [==============================] - 11s 1s/step - loss: 0.4885 - accuracy: 0.8333 - val_loss: 1.0401 - val_accuracy: 0.7297\n",
            "Epoch 12/50\n",
            "11/11 [==============================] - 11s 1s/step - loss: 0.4058 - accuracy: 0.8642 - val_loss: 1.0984 - val_accuracy: 0.6216\n",
            "Epoch 13/50\n",
            "11/11 [==============================] - 11s 1s/step - loss: 0.3204 - accuracy: 0.9290 - val_loss: 1.0160 - val_accuracy: 0.7027\n",
            "Epoch 14/50\n",
            "11/11 [==============================] - 11s 1s/step - loss: 0.2595 - accuracy: 0.9383 - val_loss: 0.9501 - val_accuracy: 0.7297\n",
            "Epoch 15/50\n",
            "11/11 [==============================] - 11s 1s/step - loss: 0.1909 - accuracy: 0.9599 - val_loss: 1.0045 - val_accuracy: 0.7568\n",
            "Epoch 16/50\n",
            "11/11 [==============================] - 11s 1s/step - loss: 0.1377 - accuracy: 0.9568 - val_loss: 1.1456 - val_accuracy: 0.7027\n",
            "Epoch 17/50\n",
            "11/11 [==============================] - 11s 1s/step - loss: 0.1253 - accuracy: 0.9722 - val_loss: 1.1772 - val_accuracy: 0.7297\n",
            "Epoch 18/50\n",
            "11/11 [==============================] - 11s 1s/step - loss: 0.1208 - accuracy: 0.9753 - val_loss: 1.0971 - val_accuracy: 0.7027\n",
            "Epoch 19/50\n",
            "11/11 [==============================] - 11s 1s/step - loss: 0.2679 - accuracy: 0.9105 - val_loss: 1.3791 - val_accuracy: 0.6486\n",
            "Epoch 20/50\n",
            "11/11 [==============================] - 11s 1s/step - loss: 0.2312 - accuracy: 0.9105 - val_loss: 0.9383 - val_accuracy: 0.7568\n",
            "Epoch 21/50\n",
            "11/11 [==============================] - 11s 1s/step - loss: 0.2029 - accuracy: 0.9321 - val_loss: 1.2504 - val_accuracy: 0.6216\n",
            "Epoch 22/50\n",
            "11/11 [==============================] - 11s 1s/step - loss: 0.1598 - accuracy: 0.9568 - val_loss: 1.0186 - val_accuracy: 0.7297\n",
            "Epoch 23/50\n",
            "11/11 [==============================] - 11s 1s/step - loss: 0.1538 - accuracy: 0.9475 - val_loss: 1.1635 - val_accuracy: 0.7838\n",
            "Epoch 24/50\n",
            "11/11 [==============================] - 11s 1s/step - loss: 0.1143 - accuracy: 0.9815 - val_loss: 1.1270 - val_accuracy: 0.7568\n",
            "Epoch 25/50\n",
            "11/11 [==============================] - 11s 1s/step - loss: 0.1143 - accuracy: 0.9630 - val_loss: 1.0916 - val_accuracy: 0.7838\n",
            "Epoch 26/50\n",
            "11/11 [==============================] - 11s 1s/step - loss: 0.0883 - accuracy: 0.9753 - val_loss: 1.6766 - val_accuracy: 0.5676\n",
            "Epoch 27/50\n",
            "11/11 [==============================] - 11s 1s/step - loss: 0.3450 - accuracy: 0.7840 - val_loss: 1.1561 - val_accuracy: 0.7568\n",
            "Epoch 28/50\n",
            "11/11 [==============================] - 11s 1s/step - loss: 0.2814 - accuracy: 0.9167 - val_loss: 1.2865 - val_accuracy: 0.5946\n",
            "Epoch 29/50\n",
            "11/11 [==============================] - 11s 1s/step - loss: 0.1916 - accuracy: 0.9444 - val_loss: 1.2752 - val_accuracy: 0.6486\n",
            "Epoch 30/50\n",
            "11/11 [==============================] - 11s 996ms/step - loss: 0.1528 - accuracy: 0.9630 - val_loss: 1.2164 - val_accuracy: 0.6486\n",
            "Epoch 31/50\n",
            "11/11 [==============================] - 11s 989ms/step - loss: 0.1103 - accuracy: 0.9722 - val_loss: 1.0227 - val_accuracy: 0.6486\n",
            "Epoch 32/50\n",
            "11/11 [==============================] - 11s 1s/step - loss: 0.0917 - accuracy: 0.9691 - val_loss: 1.1214 - val_accuracy: 0.7568\n",
            "Epoch 33/50\n",
            "11/11 [==============================] - 11s 1s/step - loss: 0.0593 - accuracy: 0.9877 - val_loss: 1.2910 - val_accuracy: 0.7297\n",
            "Epoch 34/50\n",
            "11/11 [==============================] - 11s 990ms/step - loss: 0.0582 - accuracy: 0.9877 - val_loss: 1.2291 - val_accuracy: 0.7568\n",
            "Epoch 35/50\n",
            "11/11 [==============================] - 11s 1s/step - loss: 0.0629 - accuracy: 0.9938 - val_loss: 1.2179 - val_accuracy: 0.7568\n",
            "Epoch 36/50\n",
            "11/11 [==============================] - 11s 1s/step - loss: 0.0370 - accuracy: 0.9938 - val_loss: 1.2502 - val_accuracy: 0.7568\n",
            "Epoch 37/50\n",
            "11/11 [==============================] - 11s 986ms/step - loss: 0.0312 - accuracy: 0.9938 - val_loss: 1.2890 - val_accuracy: 0.7027\n",
            "Epoch 38/50\n",
            "11/11 [==============================] - 11s 984ms/step - loss: 0.0430 - accuracy: 0.9907 - val_loss: 1.1734 - val_accuracy: 0.7838\n",
            "Epoch 39/50\n",
            "11/11 [==============================] - 11s 987ms/step - loss: 0.0455 - accuracy: 0.9877 - val_loss: 1.2287 - val_accuracy: 0.7568\n",
            "Epoch 40/50\n",
            "11/11 [==============================] - 11s 971ms/step - loss: 0.0414 - accuracy: 0.9877 - val_loss: 1.2223 - val_accuracy: 0.7568\n",
            "Epoch 41/50\n",
            "11/11 [==============================] - 11s 994ms/step - loss: 0.0335 - accuracy: 0.9938 - val_loss: 1.2330 - val_accuracy: 0.7297\n",
            "Epoch 42/50\n",
            "11/11 [==============================] - 11s 996ms/step - loss: 0.0479 - accuracy: 0.9877 - val_loss: 1.1643 - val_accuracy: 0.7838\n",
            "Epoch 43/50\n",
            "11/11 [==============================] - 11s 991ms/step - loss: 0.0458 - accuracy: 0.9815 - val_loss: 1.2343 - val_accuracy: 0.7838\n",
            "Epoch 44/50\n",
            "11/11 [==============================] - 11s 1000ms/step - loss: 0.0235 - accuracy: 0.9969 - val_loss: 1.4817 - val_accuracy: 0.7297\n",
            "Epoch 45/50\n",
            "11/11 [==============================] - 11s 992ms/step - loss: 0.0242 - accuracy: 0.9969 - val_loss: 1.2699 - val_accuracy: 0.7838\n",
            "Epoch 46/50\n",
            "11/11 [==============================] - 11s 978ms/step - loss: 0.0278 - accuracy: 0.9877 - val_loss: 1.2703 - val_accuracy: 0.7568\n",
            "Epoch 47/50\n",
            "11/11 [==============================] - 11s 985ms/step - loss: 0.0298 - accuracy: 0.9938 - val_loss: 1.3331 - val_accuracy: 0.7838\n",
            "Epoch 48/50\n",
            "11/11 [==============================] - 11s 1s/step - loss: 0.0254 - accuracy: 0.9907 - val_loss: 1.4246 - val_accuracy: 0.7838\n",
            "Epoch 49/50\n",
            "11/11 [==============================] - 11s 983ms/step - loss: 0.0232 - accuracy: 0.9969 - val_loss: 1.5616 - val_accuracy: 0.7297\n",
            "Epoch 50/50\n",
            "11/11 [==============================] - 11s 1s/step - loss: 0.0292 - accuracy: 0.9938 - val_loss: 1.4210 - val_accuracy: 0.7568\n"
          ],
          "name": "stdout"
        }
      ]
    },
    {
      "cell_type": "code",
      "metadata": {
        "colab": {
          "base_uri": "https://localhost:8080/",
          "height": 541
        },
        "id": "i7HDVCrmwCv4",
        "outputId": "032ea9e4-0032-4999-c7d8-b773da31fce3"
      },
      "source": [
        "def plot_graphs(history, string):\n",
        "  plt.plot(history.history[string])\n",
        "  plt.plot(history.history['val_'+string])\n",
        "  plt.xlabel(\"Epochs\")\n",
        "  plt.ylabel(string)\n",
        "  plt.legend([string, 'val_'+string])\n",
        "  plt.show()\n",
        "  \n",
        "plot_graphs(history, \"accuracy\")\n",
        "plot_graphs(history, \"loss\")"
      ],
      "execution_count": null,
      "outputs": [
        {
          "output_type": "display_data",
          "data": {
            "image/png": "[encoded data removed]",
            "text/plain": [
              "<Figure size 432x288 with 1 Axes>"
            ]
          },
          "metadata": {
            "tags": [],
            "needs_background": "light"
          }
        },
        {
          "output_type": "display_data",
          "data": {
            "image/png": "[encoded data removed]",
            "text/plain": [
              "<Figure size 432x288 with 1 Axes>"
            ]
          },
          "metadata": {
            "tags": [],
            "needs_background": "light"
          }
        }
      ]
    },
    {
      "cell_type": "code",
      "metadata": {
        "colab": {
          "base_uri": "https://localhost:8080/"
        },
        "id": "FihItsnuwFvG",
        "outputId": "8b5952bf-a908-4c03-9725-253eae6f413e"
      },
      "source": [
        "\n",
        "new_incident = ['When the electrician tried to turn on the electricity, he touched the metal box (called a breaker panel), and this made a flash that hurt him. He collapsed immediately and later was rushed to the hospital.']\n",
        "seq = tokenizer.texts_to_sequences(new_incident)\n",
        "padded = pad_sequences(seq, maxlen=200)\n",
        "pred = model_LSTM.predict(padded)\n",
        "labels = [1,2,3,4,5]\n",
        "print(\" The predicted label of the same text is {}\".format(labels[np.argmax(pred)]))"
      ],
      "execution_count": null,
      "outputs": [
        {
          "output_type": "stream",
          "text": [
            " The predicted label of the same text is 3\n"
          ],
          "name": "stdout"
        }
      ]
    },
    {
      "cell_type": "code",
      "metadata": {
        "colab": {
          "base_uri": "https://localhost:8080/"
        },
        "id": "ArVNp2wRwJyE",
        "outputId": "787a6d6a-e4b0-41ac-bf52-68199f636b78"
      },
      "source": [
        "data_raw_validation[\"Accident Level\"].value_counts()"
      ],
      "execution_count": null,
      "outputs": [
        {
          "output_type": "execute_result",
          "data": {
            "text/plain": [
              "1    223\n",
              "2     27\n",
              "3     23\n",
              "4     16\n",
              "5      8\n",
              "Name: Accident Level, dtype: int64"
            ]
          },
          "metadata": {
            "tags": []
          },
          "execution_count": 60
        }
      ]
    },
    {
      "cell_type": "code",
      "metadata": {
        "colab": {
          "base_uri": "https://localhost:8080/"
        },
        "id": "siTAaqIcwWmM",
        "outputId": "0e96305f-0fef-4464-e84c-d49bc73704df"
      },
      "source": [
        "X_test_raw = tokenizer.texts_to_sequences(data_raw_validation['Combined_text'].values)\n",
        "X_test_raw = pad_sequences(X_test_raw, maxlen=MAX_SEQUENCE_LENGTH)\n",
        "print('Shape of data tensor:', X_test_raw.shape)"
      ],
      "execution_count": null,
      "outputs": [
        {
          "output_type": "stream",
          "text": [
            "Shape of data tensor: (297, 250)\n"
          ],
          "name": "stdout"
        }
      ]
    },
    {
      "cell_type": "code",
      "metadata": {
        "id": "dghgb36Cweot"
      },
      "source": [
        "y_test_raw = (data_raw_validation['Accident Level'])"
      ],
      "execution_count": null,
      "outputs": []
    },
    {
      "cell_type": "code",
      "metadata": {
        "id": "g03yVVaTwiQT"
      },
      "source": [
        "Y_Pred_raw = model_LSTM.predict(X_test_raw)"
      ],
      "execution_count": null,
      "outputs": []
    },
    {
      "cell_type": "code",
      "metadata": {
        "id": "6nnZpatKyFKo"
      },
      "source": [
        "Y_Pred_raw = Y_Pred_raw.tolist()"
      ],
      "execution_count": null,
      "outputs": []
    },
    {
      "cell_type": "code",
      "metadata": {
        "id": "AAlKEYMVwpjf"
      },
      "source": [
        "labels = [1,2,3,4,5]\n",
        "Y_pred_arr_raw = []\n",
        "for item in Y_Pred_raw:\n",
        "  Y_pred_arr_raw.append(labels[np.argmax(item)])"
      ],
      "execution_count": null,
      "outputs": []
    },
    {
      "cell_type": "code",
      "metadata": {
        "colab": {
          "base_uri": "https://localhost:8080/"
        },
        "id": "QGYqUIs7wxeU",
        "outputId": "d7f729a5-191f-4335-d261-2011b989677d"
      },
      "source": [
        "# Classficition report for LSTM without data augmenttion\n",
        "from sklearn.metrics import classification_report\n",
        "\n",
        "print(classification_report(Y_pred_arr_raw, y_test_raw))\n"
      ],
      "execution_count": null,
      "outputs": [
        {
          "output_type": "stream",
          "text": [
            "              precision    recall  f1-score   support\n",
            "\n",
            "           1       0.95      0.93      0.94       229\n",
            "           2       0.74      0.71      0.73        28\n",
            "           3       0.83      0.79      0.81        24\n",
            "           4       0.69      1.00      0.81        11\n",
            "           5       0.62      1.00      0.77         5\n",
            "\n",
            "    accuracy                           0.90       297\n",
            "   macro avg       0.77      0.89      0.81       297\n",
            "weighted avg       0.91      0.90      0.90       297\n",
            "\n"
          ],
          "name": "stdout"
        }
      ]
    },
    {
      "cell_type": "code",
      "metadata": {
        "colab": {
          "base_uri": "https://localhost:8080/"
        },
        "id": "qFtiq_ltygps",
        "outputId": "9509e8f1-387c-4f6c-f9fb-7eb7997bc3d4"
      },
      "source": [
        "# Classficition report for LSTM with data augmentation\n",
        "from sklearn.metrics import classification_report\n",
        "\n",
        "print(classification_report(y_test, Y_pred_arr))"
      ],
      "execution_count": null,
      "outputs": [
        {
          "output_type": "stream",
          "text": [
            "              precision    recall  f1-score   support\n",
            "\n",
            "           1       0.90      0.88      0.89        42\n",
            "           2       0.76      0.89      0.82        18\n",
            "           3       1.00      0.81      0.90        16\n",
            "           4       0.87      0.93      0.90        14\n",
            "           5       1.00      1.00      1.00         9\n",
            "\n",
            "    accuracy                           0.89        99\n",
            "   macro avg       0.91      0.90      0.90        99\n",
            "weighted avg       0.90      0.89      0.89        99\n",
            "\n"
          ],
          "name": "stdout"
        }
      ]
    },
    {
      "cell_type": "markdown",
      "metadata": {
        "id": "niAwfc-PVLG7"
      },
      "source": [
        "Building Bi_Directional LSTM Models "
      ]
    },
    {
      "cell_type": "markdown",
      "metadata": {
        "id": "yrtkHgX_VZQg"
      },
      "source": [
        "BiDirectional LSTM Model on Augmented data "
      ]
    },
    {
      "cell_type": "code",
      "metadata": {
        "colab": {
          "base_uri": "https://localhost:8080/"
        },
        "id": "iRJIEgrvE2f1",
        "outputId": "6d32df60-1654-4c9c-af14-327ac689d758"
      },
      "source": [
        "from keras.layers import GlobalMaxPooling1D, Conv1D, MaxPooling1D, Flatten, Bidirectional, SpatialDropout1D\n",
        "model_bidirectional = Sequential()\n",
        "model_bidirectional.add(Embedding(MAX_NB_WORDS, EMBEDDING_DIM, input_length=X.shape[1]))\n",
        "model_bidirectional.add(SpatialDropout1D(0.2))\n",
        "model_bidirectional.add(Bidirectional(LSTM(EMBEDDING_DIM, dropout=0.3, recurrent_dropout=0.3)))\n",
        "model_bidirectional.add(Dense(5, activation='softmax'))\n",
        "model_bidirectional.compile(loss='categorical_crossentropy', optimizer='adam', metrics=['accuracy'])\n",
        "\n",
        "print(model_bidirectional.summary())"
      ],
      "execution_count": 46,
      "outputs": [
        {
          "output_type": "stream",
          "text": [
            "WARNING:tensorflow:Layer lstm_1 will not use cuDNN kernels since it doesn't meet the criteria. It will use a generic GPU kernel as fallback when running on GPU.\n",
            "WARNING:tensorflow:Layer lstm_1 will not use cuDNN kernels since it doesn't meet the criteria. It will use a generic GPU kernel as fallback when running on GPU.\n",
            "WARNING:tensorflow:Layer lstm_1 will not use cuDNN kernels since it doesn't meet the criteria. It will use a generic GPU kernel as fallback when running on GPU.\n",
            "Model: \"sequential_1\"\n",
            "_________________________________________________________________\n",
            "Layer (type)                 Output Shape              Param #   \n",
            "=================================================================\n",
            "embedding_1 (Embedding)      (None, 250, 100)          5000000   \n",
            "_________________________________________________________________\n",
            "spatial_dropout1d_1 (Spatial (None, 250, 100)          0         \n",
            "_________________________________________________________________\n",
            "bidirectional (Bidirectional (None, 200)               160800    \n",
            "_________________________________________________________________\n",
            "dense_1 (Dense)              (None, 5)                 1005      \n",
            "=================================================================\n",
            "Total params: 5,161,805\n",
            "Trainable params: 5,161,805\n",
            "Non-trainable params: 0\n",
            "_________________________________________________________________\n",
            "None\n"
          ],
          "name": "stdout"
        }
      ]
    },
    {
      "cell_type": "code",
      "metadata": {
        "colab": {
          "base_uri": "https://localhost:8080/"
        },
        "id": "UeVUAI45Glem",
        "outputId": "0a3a41e5-3560-47b2-e487-d9c83302cb7a"
      },
      "source": [
        "from sklearn.utils import class_weight\n",
        "class_weights = class_weight.compute_class_weight('balanced', np.unique(data['Accident Level'].values), data['Accident Level'].values)\n",
        "weight = {i : class_weights[i] for i in range(5)}\n",
        "print(weight)\n",
        "\n",
        "epochs = 50\n",
        "batch_size = 32\n",
        "\n",
        "history = model_bidirectional.fit(X, Y, class_weight=weight, epochs=epochs, batch_size=batch_size,validation_split=0.1)"
      ],
      "execution_count": null,
      "outputs": [
        {
          "output_type": "stream",
          "text": [
            "{0: 0.41645569620253164, 1: 1.1855855855855857, 2: 1.3708333333333333, 3: 1.4786516853932585, 4: 2.860869565217391}\n",
            "Epoch 1/50\n",
            "16/16 [==============================] - 32s 2s/step - loss: 0.5563 - accuracy: 0.6799 - val_loss: 0.9172 - val_accuracy: 0.6786\n",
            "Epoch 2/50\n",
            "16/16 [==============================] - 32s 2s/step - loss: 0.4871 - accuracy: 0.7654 - val_loss: 1.4179 - val_accuracy: 0.5179\n",
            "Epoch 3/50\n",
            "16/16 [==============================] - 32s 2s/step - loss: 0.4036 - accuracy: 0.7873 - val_loss: 1.1369 - val_accuracy: 0.5357\n",
            "Epoch 4/50\n",
            "16/16 [==============================] - 32s 2s/step - loss: 0.3596 - accuracy: 0.7893 - val_loss: 1.1068 - val_accuracy: 0.5357\n",
            "Epoch 5/50\n",
            "16/16 [==============================] - 32s 2s/step - loss: 0.3026 - accuracy: 0.8429 - val_loss: 0.9084 - val_accuracy: 0.6250\n",
            "Epoch 6/50\n",
            "16/16 [==============================] - 32s 2s/step - loss: 0.1871 - accuracy: 0.9085 - val_loss: 0.8578 - val_accuracy: 0.7321\n",
            "Epoch 7/50\n",
            "16/16 [==============================] - 31s 2s/step - loss: 0.1491 - accuracy: 0.9324 - val_loss: 0.9421 - val_accuracy: 0.7321\n",
            "Epoch 8/50\n",
            "16/16 [==============================] - 32s 2s/step - loss: 0.0955 - accuracy: 0.9682 - val_loss: 0.7596 - val_accuracy: 0.8036\n",
            "Epoch 9/50\n",
            "16/16 [==============================] - 32s 2s/step - loss: 0.0996 - accuracy: 0.9563 - val_loss: 0.8496 - val_accuracy: 0.7857\n",
            "Epoch 10/50\n",
            "16/16 [==============================] - 31s 2s/step - loss: 0.1764 - accuracy: 0.8966 - val_loss: 0.8393 - val_accuracy: 0.7857\n",
            "Epoch 11/50\n",
            "16/16 [==============================] - 31s 2s/step - loss: 0.1774 - accuracy: 0.9145 - val_loss: 0.8247 - val_accuracy: 0.7143\n",
            "Epoch 12/50\n",
            "16/16 [==============================] - 31s 2s/step - loss: 0.1704 - accuracy: 0.9543 - val_loss: 1.1804 - val_accuracy: 0.7143\n",
            "Epoch 13/50\n",
            "16/16 [==============================] - 31s 2s/step - loss: 0.1408 - accuracy: 0.9801 - val_loss: 0.7362 - val_accuracy: 0.8571\n",
            "Epoch 14/50\n",
            "16/16 [==============================] - 31s 2s/step - loss: 0.1059 - accuracy: 0.9742 - val_loss: 0.6529 - val_accuracy: 0.8571\n",
            "Epoch 15/50\n",
            "16/16 [==============================] - 32s 2s/step - loss: 0.1418 - accuracy: 0.9563 - val_loss: 1.0923 - val_accuracy: 0.6964\n",
            "Epoch 16/50\n",
            "16/16 [==============================] - 31s 2s/step - loss: 0.0736 - accuracy: 0.9722 - val_loss: 0.8999 - val_accuracy: 0.7857\n",
            "Epoch 17/50\n",
            "16/16 [==============================] - 31s 2s/step - loss: 0.0300 - accuracy: 0.9940 - val_loss: 1.0410 - val_accuracy: 0.7679\n",
            "Epoch 18/50\n",
            "16/16 [==============================] - 31s 2s/step - loss: 0.0271 - accuracy: 0.9901 - val_loss: 1.0714 - val_accuracy: 0.7679\n",
            "Epoch 19/50\n",
            "16/16 [==============================] - 31s 2s/step - loss: 0.0180 - accuracy: 0.9940 - val_loss: 0.9702 - val_accuracy: 0.7857\n",
            "Epoch 20/50\n",
            "16/16 [==============================] - 31s 2s/step - loss: 0.0257 - accuracy: 0.9940 - val_loss: 0.9006 - val_accuracy: 0.8036\n",
            "Epoch 21/50\n",
            "16/16 [==============================] - 30s 2s/step - loss: 0.0160 - accuracy: 0.9960 - val_loss: 0.9405 - val_accuracy: 0.8036\n",
            "Epoch 22/50\n",
            "16/16 [==============================] - 30s 2s/step - loss: 0.0166 - accuracy: 0.9940 - val_loss: 0.8810 - val_accuracy: 0.7679\n",
            "Epoch 23/50\n",
            "16/16 [==============================] - 31s 2s/step - loss: 0.0225 - accuracy: 0.9940 - val_loss: 0.7734 - val_accuracy: 0.8036\n",
            "Epoch 24/50\n",
            "16/16 [==============================] - 30s 2s/step - loss: 0.0142 - accuracy: 0.9940 - val_loss: 0.7268 - val_accuracy: 0.8393\n",
            "Epoch 25/50\n",
            "16/16 [==============================] - 31s 2s/step - loss: 0.0143 - accuracy: 0.9960 - val_loss: 0.9059 - val_accuracy: 0.7679\n",
            "Epoch 26/50\n",
            "16/16 [==============================] - 30s 2s/step - loss: 0.0118 - accuracy: 0.9960 - val_loss: 1.0114 - val_accuracy: 0.8036\n",
            "Epoch 27/50\n",
            "16/16 [==============================] - 30s 2s/step - loss: 0.0140 - accuracy: 0.9940 - val_loss: 1.1465 - val_accuracy: 0.7857\n",
            "Epoch 28/50\n",
            "16/16 [==============================] - 30s 2s/step - loss: 0.0136 - accuracy: 0.9960 - val_loss: 0.9450 - val_accuracy: 0.7857\n",
            "Epoch 29/50\n",
            "16/16 [==============================] - 30s 2s/step - loss: 0.0130 - accuracy: 0.9920 - val_loss: 0.7634 - val_accuracy: 0.8393\n",
            "Epoch 30/50\n",
            "16/16 [==============================] - 30s 2s/step - loss: 0.0157 - accuracy: 0.9920 - val_loss: 0.7493 - val_accuracy: 0.8393\n",
            "Epoch 31/50\n",
            "16/16 [==============================] - 30s 2s/step - loss: 0.0657 - accuracy: 0.9781 - val_loss: 0.9341 - val_accuracy: 0.7321\n",
            "Epoch 32/50\n",
            "16/16 [==============================] - 30s 2s/step - loss: 0.0137 - accuracy: 0.9960 - val_loss: 0.7703 - val_accuracy: 0.8393\n",
            "Epoch 33/50\n",
            "16/16 [==============================] - 30s 2s/step - loss: 0.0164 - accuracy: 0.9920 - val_loss: 0.8901 - val_accuracy: 0.8214\n",
            "Epoch 34/50\n",
            "16/16 [==============================] - 30s 2s/step - loss: 0.0204 - accuracy: 0.9861 - val_loss: 0.8538 - val_accuracy: 0.8214\n",
            "Epoch 35/50\n",
            "16/16 [==============================] - 30s 2s/step - loss: 0.0143 - accuracy: 0.9940 - val_loss: 0.7820 - val_accuracy: 0.8393\n",
            "Epoch 36/50\n",
            "16/16 [==============================] - 30s 2s/step - loss: 0.0128 - accuracy: 0.9940 - val_loss: 0.9275 - val_accuracy: 0.8036\n",
            "Epoch 37/50\n",
            "16/16 [==============================] - 30s 2s/step - loss: 0.0104 - accuracy: 0.9960 - val_loss: 0.8259 - val_accuracy: 0.8214\n",
            "Epoch 38/50\n",
            "16/16 [==============================] - 30s 2s/step - loss: 0.0094 - accuracy: 0.9960 - val_loss: 0.8355 - val_accuracy: 0.8036\n",
            "Epoch 39/50\n",
            "16/16 [==============================] - 30s 2s/step - loss: 0.0096 - accuracy: 0.9960 - val_loss: 0.7478 - val_accuracy: 0.8393\n",
            "Epoch 40/50\n",
            "16/16 [==============================] - 30s 2s/step - loss: 0.0102 - accuracy: 0.9940 - val_loss: 0.7767 - val_accuracy: 0.8393\n",
            "Epoch 41/50\n",
            "16/16 [==============================] - 30s 2s/step - loss: 0.0082 - accuracy: 0.9980 - val_loss: 0.9292 - val_accuracy: 0.8036\n",
            "Epoch 42/50\n",
            "16/16 [==============================] - 31s 2s/step - loss: 0.0089 - accuracy: 0.9960 - val_loss: 0.8857 - val_accuracy: 0.8214\n",
            "Epoch 43/50\n",
            "16/16 [==============================] - 30s 2s/step - loss: 0.0105 - accuracy: 0.9940 - val_loss: 0.8778 - val_accuracy: 0.8393\n",
            "Epoch 44/50\n",
            "16/16 [==============================] - 30s 2s/step - loss: 0.0065 - accuracy: 0.9960 - val_loss: 0.7060 - val_accuracy: 0.8571\n",
            "Epoch 45/50\n",
            "16/16 [==============================] - 30s 2s/step - loss: 0.0063 - accuracy: 0.9960 - val_loss: 0.7033 - val_accuracy: 0.8571\n",
            "Epoch 46/50\n",
            "16/16 [==============================] - 30s 2s/step - loss: 0.0063 - accuracy: 0.9980 - val_loss: 0.8267 - val_accuracy: 0.8571\n",
            "Epoch 47/50\n",
            "16/16 [==============================] - 30s 2s/step - loss: 0.0089 - accuracy: 0.9960 - val_loss: 0.8939 - val_accuracy: 0.8393\n",
            "Epoch 48/50\n",
            "16/16 [==============================] - 30s 2s/step - loss: 0.0070 - accuracy: 0.9960 - val_loss: 0.9696 - val_accuracy: 0.8036\n",
            "Epoch 49/50\n",
            "16/16 [==============================] - 31s 2s/step - loss: 0.0038 - accuracy: 0.9980 - val_loss: 0.8211 - val_accuracy: 0.8750\n",
            "Epoch 50/50\n",
            "16/16 [==============================] - 30s 2s/step - loss: 0.0030 - accuracy: 1.0000 - val_loss: 0.8245 - val_accuracy: 0.8571\n"
          ],
          "name": "stdout"
        }
      ]
    },
    {
      "cell_type": "code",
      "metadata": {
        "colab": {
          "base_uri": "https://localhost:8080/",
          "height": 541
        },
        "id": "b11kUUhaVvJ7",
        "outputId": "d3de3628-9833-4f2a-f45d-19ed0b2caa15"
      },
      "source": [
        "def plot_graphs(history, string):\n",
        "  plt.plot(history.history[string])\n",
        "  plt.plot(history.history['val_'+string])\n",
        "  plt.xlabel(\"Epochs\")\n",
        "  plt.ylabel(string)\n",
        "  plt.legend([string, 'val_'+string])\n",
        "  plt.show()\n",
        "  \n",
        "plot_graphs(history, \"accuracy\")\n",
        "plot_graphs(history, \"loss\")"
      ],
      "execution_count": null,
      "outputs": [
        {
          "output_type": "display_data",
          "data": {
            "image/png": "[encoded data removed]",
            "text/plain": [
              "<Figure size 432x288 with 1 Axes>"
            ]
          },
          "metadata": {
            "tags": [],
            "needs_background": "light"
          }
        },
        {
          "output_type": "display_data",
          "data": {
            "image/png": "[encoded data removed]",
            "text/plain": [
              "<Figure size 432x288 with 1 Axes>"
            ]
          },
          "metadata": {
            "tags": [],
            "needs_background": "light"
          }
        }
      ]
    },
    {
      "cell_type": "code",
      "metadata": {
        "colab": {
          "base_uri": "https://localhost:8080/"
        },
        "id": "VZkkAywIV_vs",
        "outputId": "1a9f2d01-2a55-4d18-eae0-4b170cd8c687"
      },
      "source": [
        "\n",
        "new_incident = ['When the electrician tried to turn on the electricity, he touched the metal box (called a breaker panel), and this made a flash that hurt him. He collapsed immediately and later was rushed to the hospital.']\n",
        "seq = tokenizer.texts_to_sequences(new_incident)\n",
        "padded = pad_sequences(seq, maxlen=200)\n",
        "pred = model_bidirectional.predict(padded)\n",
        "labels = [1,2,3,4,5]\n",
        "print(\" The predicted label of the same text is {}\".format(labels[np.argmax(pred)]))"
      ],
      "execution_count": null,
      "outputs": [
        {
          "output_type": "stream",
          "text": [
            "WARNING:tensorflow:Model was constructed with shape (None, 250) for input KerasTensor(type_spec=TensorSpec(shape=(None, 250), dtype=tf.float32, name='embedding_3_input'), name='embedding_3_input', description=\"created by layer 'embedding_3_input'\"), but it was called on an input with incompatible shape (None, 200).\n",
            " The predicted label of the same text is 1\n"
          ],
          "name": "stdout"
        }
      ]
    },
    {
      "cell_type": "code",
      "metadata": {
        "id": "nOjvWznqV_yI"
      },
      "source": [
        "Y_Pred_bi_aug = model_bidirectional.predict(X_test)"
      ],
      "execution_count": null,
      "outputs": []
    },
    {
      "cell_type": "code",
      "metadata": {
        "id": "2ADDJHCqV_0Y"
      },
      "source": [
        "Y_Pred_bi_aug = Y_Pred_bi_aug.tolist()"
      ],
      "execution_count": null,
      "outputs": []
    },
    {
      "cell_type": "code",
      "metadata": {
        "id": "x2PK9TFAV_2v"
      },
      "source": [
        "labels = [1,2,3,4,5]\n",
        "Y_Pred_bi_aug_arr = []\n",
        "for item in Y_Pred_bi_aug:\n",
        "  Y_Pred_bi_aug_arr.append(labels[np.argmax(item)])"
      ],
      "execution_count": null,
      "outputs": []
    },
    {
      "cell_type": "code",
      "metadata": {
        "colab": {
          "base_uri": "https://localhost:8080/"
        },
        "id": "DktwcpswV_5c",
        "outputId": "4bb6a033-de27-4fc4-9604-30781f31c520"
      },
      "source": [
        "# Classficition report for LSTM with data augmentation\n",
        "from sklearn.metrics import classification_report\n",
        "\n",
        "print(classification_report(y_test, Y_Pred_bi_aug_arr))"
      ],
      "execution_count": null,
      "outputs": [
        {
          "output_type": "stream",
          "text": [
            "              precision    recall  f1-score   support\n",
            "\n",
            "           1       0.90      0.88      0.89        42\n",
            "           2       0.73      0.89      0.80        18\n",
            "           3       1.00      0.88      0.93        16\n",
            "           4       1.00      0.93      0.96        14\n",
            "           5       1.00      1.00      1.00         9\n",
            "\n",
            "    accuracy                           0.90        99\n",
            "   macro avg       0.93      0.91      0.92        99\n",
            "weighted avg       0.91      0.90      0.90        99\n",
            "\n"
          ],
          "name": "stdout"
        }
      ]
    },
    {
      "cell_type": "markdown",
      "metadata": {
        "id": "fY0zk9f9Vr9y"
      },
      "source": [
        "BiDirectional LSTM Model on Raw Data"
      ]
    },
    {
      "cell_type": "code",
      "metadata": {
        "colab": {
          "base_uri": "https://localhost:8080/"
        },
        "id": "JeF3yzSnLLkw",
        "outputId": "f1076e65-a578-48dd-d675-7a566469a4cc"
      },
      "source": [
        "class_weights = class_weight.compute_class_weight('balanced', np.unique(data['Accident Level'].values), data['Accident Level'].values)\n",
        "weight = {i : class_weights[i] for i in range(5)}\n",
        "print(weight)\n",
        "\n",
        "epochs = 50\n",
        "batch_size = 32\n",
        "\n",
        "history = model_bidirectional.fit(X_raw, Y_raw, class_weight=weight, epochs=epochs, batch_size=batch_size,validation_split=0.1)"
      ],
      "execution_count": null,
      "outputs": [
        {
          "output_type": "stream",
          "text": [
            "{0: 0.41645569620253164, 1: 1.1855855855855857, 2: 1.3708333333333333, 3: 1.4786516853932585, 4: 2.860869565217391}\n",
            "Epoch 1/50\n",
            "11/11 [==============================] - 21s 2s/step - loss: 2.1252 - accuracy: 0.5401 - val_loss: 1.1977 - val_accuracy: 0.6216\n",
            "Epoch 2/50\n",
            "11/11 [==============================] - 21s 2s/step - loss: 1.0296 - accuracy: 0.4444 - val_loss: 1.3717 - val_accuracy: 0.4324\n",
            "Epoch 3/50\n",
            "11/11 [==============================] - 21s 2s/step - loss: 0.9460 - accuracy: 0.6574 - val_loss: 1.1550 - val_accuracy: 0.7027\n",
            "Epoch 4/50\n",
            "11/11 [==============================] - 21s 2s/step - loss: 0.9150 - accuracy: 0.7346 - val_loss: 1.1092 - val_accuracy: 0.7027\n",
            "Epoch 5/50\n",
            "11/11 [==============================] - 21s 2s/step - loss: 0.9258 - accuracy: 0.7253 - val_loss: 1.1299 - val_accuracy: 0.7027\n",
            "Epoch 6/50\n",
            "11/11 [==============================] - 21s 2s/step - loss: 0.8549 - accuracy: 0.7407 - val_loss: 1.0533 - val_accuracy: 0.7027\n",
            "Epoch 7/50\n",
            "11/11 [==============================] - 21s 2s/step - loss: 0.8068 - accuracy: 0.7222 - val_loss: 1.0128 - val_accuracy: 0.7297\n",
            "Epoch 8/50\n",
            "11/11 [==============================] - 21s 2s/step - loss: 0.7365 - accuracy: 0.7685 - val_loss: 0.9209 - val_accuracy: 0.7027\n",
            "Epoch 9/50\n",
            "11/11 [==============================] - 21s 2s/step - loss: 0.7117 - accuracy: 0.7654 - val_loss: 0.9044 - val_accuracy: 0.7027\n",
            "Epoch 10/50\n",
            "11/11 [==============================] - 21s 2s/step - loss: 0.8095 - accuracy: 0.7654 - val_loss: 0.9466 - val_accuracy: 0.7027\n",
            "Epoch 11/50\n",
            "11/11 [==============================] - 21s 2s/step - loss: 0.7222 - accuracy: 0.6543 - val_loss: 0.9578 - val_accuracy: 0.7027\n",
            "Epoch 12/50\n",
            "11/11 [==============================] - 21s 2s/step - loss: 0.6764 - accuracy: 0.7963 - val_loss: 0.9070 - val_accuracy: 0.7297\n",
            "Epoch 13/50\n",
            "11/11 [==============================] - 21s 2s/step - loss: 0.6003 - accuracy: 0.7963 - val_loss: 0.8486 - val_accuracy: 0.7027\n",
            "Epoch 14/50\n",
            "11/11 [==============================] - 21s 2s/step - loss: 0.5263 - accuracy: 0.8333 - val_loss: 0.8656 - val_accuracy: 0.7027\n",
            "Epoch 15/50\n",
            "11/11 [==============================] - 21s 2s/step - loss: 0.4876 - accuracy: 0.8488 - val_loss: 0.8620 - val_accuracy: 0.7027\n",
            "Epoch 16/50\n",
            "11/11 [==============================] - 21s 2s/step - loss: 0.4832 - accuracy: 0.8302 - val_loss: 0.9174 - val_accuracy: 0.7027\n",
            "Epoch 17/50\n",
            "11/11 [==============================] - 21s 2s/step - loss: 0.4557 - accuracy: 0.8488 - val_loss: 0.9645 - val_accuracy: 0.7027\n",
            "Epoch 18/50\n",
            "11/11 [==============================] - 21s 2s/step - loss: 0.4606 - accuracy: 0.8519 - val_loss: 0.8773 - val_accuracy: 0.7297\n",
            "Epoch 19/50\n",
            "11/11 [==============================] - 21s 2s/step - loss: 0.4163 - accuracy: 0.8549 - val_loss: 0.9512 - val_accuracy: 0.6757\n",
            "Epoch 20/50\n",
            "11/11 [==============================] - 21s 2s/step - loss: 0.3840 - accuracy: 0.8673 - val_loss: 0.9805 - val_accuracy: 0.7027\n",
            "Epoch 21/50\n",
            "11/11 [==============================] - 21s 2s/step - loss: 0.3380 - accuracy: 0.8735 - val_loss: 1.0299 - val_accuracy: 0.7027\n",
            "Epoch 22/50\n",
            "11/11 [==============================] - 21s 2s/step - loss: 0.3069 - accuracy: 0.8796 - val_loss: 1.0540 - val_accuracy: 0.6757\n",
            "Epoch 23/50\n",
            "11/11 [==============================] - 21s 2s/step - loss: 0.3057 - accuracy: 0.8920 - val_loss: 1.0320 - val_accuracy: 0.7027\n",
            "Epoch 24/50\n",
            "11/11 [==============================] - 21s 2s/step - loss: 0.2891 - accuracy: 0.8951 - val_loss: 1.0691 - val_accuracy: 0.7027\n",
            "Epoch 25/50\n",
            "11/11 [==============================] - 21s 2s/step - loss: 0.2970 - accuracy: 0.8827 - val_loss: 1.0478 - val_accuracy: 0.6757\n",
            "Epoch 26/50\n",
            "11/11 [==============================] - 21s 2s/step - loss: 0.2590 - accuracy: 0.9012 - val_loss: 1.1416 - val_accuracy: 0.6757\n",
            "Epoch 27/50\n",
            "11/11 [==============================] - 21s 2s/step - loss: 0.2705 - accuracy: 0.9043 - val_loss: 1.0728 - val_accuracy: 0.6757\n",
            "Epoch 28/50\n",
            "11/11 [==============================] - 21s 2s/step - loss: 0.2813 - accuracy: 0.8735 - val_loss: 1.0909 - val_accuracy: 0.7027\n",
            "Epoch 29/50\n",
            "11/11 [==============================] - 21s 2s/step - loss: 0.3107 - accuracy: 0.8858 - val_loss: 1.2384 - val_accuracy: 0.6486\n",
            "Epoch 30/50\n",
            "11/11 [==============================] - 21s 2s/step - loss: 0.2612 - accuracy: 0.8981 - val_loss: 1.1406 - val_accuracy: 0.6757\n",
            "Epoch 31/50\n",
            "11/11 [==============================] - 21s 2s/step - loss: 0.2585 - accuracy: 0.8858 - val_loss: 1.2038 - val_accuracy: 0.6757\n",
            "Epoch 32/50\n",
            "11/11 [==============================] - 21s 2s/step - loss: 0.2375 - accuracy: 0.9012 - val_loss: 1.2223 - val_accuracy: 0.6757\n",
            "Epoch 33/50\n",
            "11/11 [==============================] - 21s 2s/step - loss: 0.2359 - accuracy: 0.8580 - val_loss: 1.2378 - val_accuracy: 0.5405\n",
            "Epoch 34/50\n",
            "11/11 [==============================] - 21s 2s/step - loss: 0.2428 - accuracy: 0.9105 - val_loss: 1.1858 - val_accuracy: 0.6757\n",
            "Epoch 35/50\n",
            "11/11 [==============================] - 21s 2s/step - loss: 0.1726 - accuracy: 0.9259 - val_loss: 1.2441 - val_accuracy: 0.6216\n",
            "Epoch 36/50\n",
            "11/11 [==============================] - 21s 2s/step - loss: 0.1469 - accuracy: 0.9414 - val_loss: 1.2613 - val_accuracy: 0.6486\n",
            "Epoch 37/50\n",
            "11/11 [==============================] - 21s 2s/step - loss: 0.1262 - accuracy: 0.9599 - val_loss: 1.3735 - val_accuracy: 0.6216\n",
            "Epoch 38/50\n",
            "11/11 [==============================] - 21s 2s/step - loss: 0.1098 - accuracy: 0.9568 - val_loss: 1.3931 - val_accuracy: 0.6216\n",
            "Epoch 39/50\n",
            "11/11 [==============================] - 21s 2s/step - loss: 0.1144 - accuracy: 0.9444 - val_loss: 1.4279 - val_accuracy: 0.6216\n",
            "Epoch 40/50\n",
            "11/11 [==============================] - 21s 2s/step - loss: 0.1039 - accuracy: 0.9722 - val_loss: 1.5214 - val_accuracy: 0.4865\n",
            "Epoch 41/50\n",
            "11/11 [==============================] - 21s 2s/step - loss: 0.0704 - accuracy: 0.9753 - val_loss: 1.4199 - val_accuracy: 0.6486\n",
            "Epoch 42/50\n",
            "11/11 [==============================] - 21s 2s/step - loss: 0.0790 - accuracy: 0.9784 - val_loss: 1.6642 - val_accuracy: 0.5405\n",
            "Epoch 43/50\n",
            "11/11 [==============================] - 21s 2s/step - loss: 0.0597 - accuracy: 0.9846 - val_loss: 1.5282 - val_accuracy: 0.6486\n",
            "Epoch 44/50\n",
            "11/11 [==============================] - 21s 2s/step - loss: 0.0523 - accuracy: 0.9907 - val_loss: 1.6120 - val_accuracy: 0.6216\n",
            "Epoch 45/50\n",
            "11/11 [==============================] - 21s 2s/step - loss: 0.0381 - accuracy: 0.9846 - val_loss: 1.5426 - val_accuracy: 0.5676\n",
            "Epoch 46/50\n",
            "11/11 [==============================] - 21s 2s/step - loss: 0.0258 - accuracy: 0.9907 - val_loss: 1.6391 - val_accuracy: 0.6757\n",
            "Epoch 47/50\n",
            "11/11 [==============================] - 21s 2s/step - loss: 0.0329 - accuracy: 0.9907 - val_loss: 1.8346 - val_accuracy: 0.5946\n",
            "Epoch 48/50\n",
            "11/11 [==============================] - 21s 2s/step - loss: 0.0271 - accuracy: 0.9938 - val_loss: 1.9773 - val_accuracy: 0.5405\n",
            "Epoch 49/50\n",
            "11/11 [==============================] - 21s 2s/step - loss: 0.0243 - accuracy: 0.9907 - val_loss: 1.8673 - val_accuracy: 0.5946\n",
            "Epoch 50/50\n",
            "11/11 [==============================] - 21s 2s/step - loss: 0.0207 - accuracy: 0.9938 - val_loss: 1.6915 - val_accuracy: 0.5946\n"
          ],
          "name": "stdout"
        }
      ]
    },
    {
      "cell_type": "code",
      "metadata": {
        "colab": {
          "base_uri": "https://localhost:8080/",
          "height": 541
        },
        "id": "2E2WxB-VUXgW",
        "outputId": "0e8d0ec2-8fa3-41cb-ddca-fd29cd1b5880"
      },
      "source": [
        "def plot_graphs(history, string):\n",
        "  plt.plot(history.history[string])\n",
        "  plt.plot(history.history['val_'+string])\n",
        "  plt.xlabel(\"Epochs\")\n",
        "  plt.ylabel(string)\n",
        "  plt.legend([string, 'val_'+string])\n",
        "  plt.show()\n",
        "  \n",
        "plot_graphs(history, \"accuracy\")\n",
        "plot_graphs(history, \"loss\")"
      ],
      "execution_count": null,
      "outputs": [
        {
          "output_type": "display_data",
          "data": {
            "image/png": "[encoded data removed]",
            "text/plain": [
              "<Figure size 432x288 with 1 Axes>"
            ]
          },
          "metadata": {
            "tags": [],
            "needs_background": "light"
          }
        },
        {
          "output_type": "display_data",
          "data": {
            "image/png": "[encoded data removed]",
            "text/plain": [
              "<Figure size 432x288 with 1 Axes>"
            ]
          },
          "metadata": {
            "tags": [],
            "needs_background": "light"
          }
        }
      ]
    },
    {
      "cell_type": "code",
      "metadata": {
        "colab": {
          "base_uri": "https://localhost:8080/"
        },
        "id": "kzMLtyNXXFxL",
        "outputId": "c166ebc6-0a08-48e7-fc74-af05e8d2b199"
      },
      "source": [
        "\n",
        "new_incident = ['When the electrician tried to turn on the electricity, he touched the metal box (called a breaker panel), and this made a flash that hurt him. He collapsed immediately and later was rushed to the hospital.']\n",
        "seq = tokenizer.texts_to_sequences(new_incident)\n",
        "padded = pad_sequences(seq, maxlen=200)\n",
        "pred = model_bidirectional.predict(padded)\n",
        "labels = [1,2,3,4,5]\n",
        "print(\" The predicted label of the same text is {}\".format(labels[np.argmax(pred)]))"
      ],
      "execution_count": null,
      "outputs": [
        {
          "output_type": "stream",
          "text": [
            " The predicted label of the same text is 1\n"
          ],
          "name": "stdout"
        }
      ]
    },
    {
      "cell_type": "code",
      "metadata": {
        "id": "S2U-5miNXK4-"
      },
      "source": [
        "Y_Pred_bi_raw = model_bidirectional.predict(X_test_raw)"
      ],
      "execution_count": null,
      "outputs": []
    },
    {
      "cell_type": "code",
      "metadata": {
        "id": "LdMlw-DdXK7S"
      },
      "source": [
        "Y_Pred_bi_raw = Y_Pred_bi_raw.tolist()"
      ],
      "execution_count": null,
      "outputs": []
    },
    {
      "cell_type": "code",
      "metadata": {
        "id": "jOMOZF8ahpot"
      },
      "source": [
        "labels = [1,2,3,4,5]\n",
        "Y_Pred_bi_raw_arr = []\n",
        "for item in Y_Pred_bi_raw:\n",
        "  Y_Pred_bi_raw_arr.append(labels[np.argmax(item)])"
      ],
      "execution_count": null,
      "outputs": []
    },
    {
      "cell_type": "code",
      "metadata": {
        "colab": {
          "base_uri": "https://localhost:8080/"
        },
        "id": "CcOyCu0FhyZa",
        "outputId": "cd574d73-92d1-47f9-bbfa-7d5e54ca6a94"
      },
      "source": [
        "# Classficition report for LSTM with data augmentation\n",
        "from sklearn.metrics import classification_report\n",
        "\n",
        "print(classification_report(y_test_raw, Y_Pred_bi_raw_arr))"
      ],
      "execution_count": null,
      "outputs": [
        {
          "output_type": "stream",
          "text": [
            "              precision    recall  f1-score   support\n",
            "\n",
            "           1       0.94      0.91      0.92       223\n",
            "           2       0.53      0.85      0.66        27\n",
            "           3       0.80      0.70      0.74        23\n",
            "           4       0.92      0.75      0.83        16\n",
            "           5       0.71      0.62      0.67         8\n",
            "\n",
            "    accuracy                           0.87       297\n",
            "   macro avg       0.78      0.77      0.76       297\n",
            "weighted avg       0.89      0.87      0.87       297\n",
            "\n"
          ],
          "name": "stdout"
        }
      ]
    },
    {
      "cell_type": "markdown",
      "metadata": {
        "id": "Hlu_FMpFFPFi"
      },
      "source": [
        "Observation: <br>\n",
        "\n",
        "-> The data was uploaded, processed and transformed for LSTM model development <br> \n",
        "\n",
        "-> LSTM and RNN models were built on top of raw data and augmented data <br> \n",
        "\n",
        "-> The comparision of the various models have been listed below  <br> \n",
        "\n",
        "-> This is a clear indictaion that the models without data augmentation tends to mark all records as class 1 which is corrected in the model built with augmentaed data <br> \n",
        "\n",
        "-> I tried various number of epochs and data split to identify an optimal accuracay <br> \n",
        "\n"
      ]
    },
    {
      "cell_type": "markdown",
      "metadata": {
        "id": "3S-QJBvbXK90"
      },
      "source": [
        "| Model                                           | Accuracy  |\n",
        "|-------------------------------------------------|-----------|\n",
        "| LSTM with Augmented Data                        | .89       |\n",
        "| LSTM with Raw Data                              | .90       |\n",
        "| BiDirectional LSTM ( RNN ) with Augmented data  | .90       |\n",
        "| BiDirectional LSTM ( RNN ) with Raw data        | .87       |"
      ]
    },
    {
      "cell_type": "markdown",
      "metadata": {
        "id": "CK8GXjz8trQB"
      },
      "source": [
        "| Model                                          | Class | Precision | Recall | F1 Score  | Support |\n",
        "|------------------------------------------------|-------|-----------|--------|-----------|---------|\n",
        "| LSTM with Augmented Data                       | 1     | 0.90      | 0.88   | .89       | 42      |\n",
        "| LSTM with Augmented Data                       | 2     | 0.76      | 0.89   | 0.82      | 18      |\n",
        "| LSTM with Augmented Data                       | 3     | 1.00      | 0.81   | 0.90      | 16      |\n",
        "| LSTM with Augmented Data                       | 4     | 0.87      | 0.93   | 0.90      | 14      |\n",
        "| LSTM with Augmented Data                       | 5     | 1.00      | 1.00   | 1.00      | 9       |\n",
        "| LSTM with Raw Data                             | 1     | 0.95      | 0.93   | 0.94      | 22      |\n",
        "| LSTM with Raw Data                             | 2     | 0.74      | 0.71   | 0.73      | 28      |\n",
        "| LSTM with Raw Data                             | 3     | 0.83      | 0.79   | 0.81      | 24      |\n",
        "| LSTM with Raw Data                             | 4     | 0.69      | 1.00   | 0.81      | 11      |\n",
        "| LSTM with Raw Data                             | 5     | 0.62      | 1.00   | 0.77      | 5       |\n",
        "| BiDirectional LSTM ( RNN ) with Augmented data | 1     | 0.90      | 0.88   | 0.89      | 42      |\n",
        "| BiDirectional LSTM ( RNN ) with Augmented data | 2     | 0.73      | 0.89   | 0.80      | 18      |\n",
        "| BiDirectional LSTM ( RNN ) with Augmented data | 3     | 1.00      | 0.88   | 0.93      | 16      |\n",
        "| BiDirectional LSTM ( RNN ) with Augmented data | 4     | 1.00      | 0.93   | 0.96      | 14      |\n",
        "| BiDirectional LSTM ( RNN ) with Augmented data | 5     | 1.00      | 1.00   | 1.00      | 9       |\n",
        "| BiDirectional LSTM ( RNN ) with Raw data       | 1     | 0.94      | 0.91   | 0.92      | 223     |\n",
        "| BiDirectional LSTM ( RNN ) with Raw data       | 2     | 0.53      | 0.85   | 0.66      | 27      |\n",
        "| BiDirectional LSTM ( RNN ) with Raw data       | 3     | 0.80      | 0.70   | 0.74      | 23      |\n",
        "| BiDirectional LSTM ( RNN ) with Raw data       | 4     | 0.92      | 0.75   | 0.83      | 16      |\n",
        "| BiDirectional LSTM ( RNN ) with Raw data       | 5     | 0.71      | 0.62   | 0.67      | 8       |"
      ]
    },
    {
      "cell_type": "markdown",
      "metadata": {
        "id": "HuWd5i0GtrQC"
      },
      "source": [
        "Observation: \n",
        "\n",
        "-> While LSTM with raw data has high accuracy, the classes do not have good performance scores<br>\n",
        "\n",
        "-> Its critical to get the high risk classes correct, so that correct actions can be taken<br>\n",
        "\n",
        "-> In that perspective the bi-directional LSTM seems like the best model"
      ]
    },
    {
      "cell_type": "code",
      "metadata": {
        "colab": {
          "base_uri": "https://localhost:8080/"
        },
        "id": "T5KFNqhstrQC",
        "outputId": "0f968d5a-c249-4cbf-eb0b-2c2a2272193e"
      },
      "source": [
        "from keras.layers import GlobalMaxPooling1D, Conv1D, MaxPooling1D, Flatten, Bidirectional, SpatialDropout1D\n",
        "model_bidirectional_augmented = Sequential()\n",
        "model_bidirectional_augmented.add(Embedding(MAX_NB_WORDS, EMBEDDING_DIM, input_length=X.shape[1]))\n",
        "model_bidirectional_augmented.add(SpatialDropout1D(0.1)) # Changing dropout percentage\n",
        "model_bidirectional_augmented.add(Bidirectional(LSTM(EMBEDDING_DIM, dropout=0.2, recurrent_dropout=0.2))) #changing dropout percentage \n",
        "model_bidirectional_augmented.add(Dense(24, activation='relu')) # Adding another dense layer\n",
        "model_bidirectional_augmented.add(Dense(5, activation='softmax'))\n",
        "model_bidirectional_augmented.compile(loss='categorical_crossentropy', optimizer='adam', metrics=['accuracy'])\n",
        "\n",
        "print(model_bidirectional_augmented.summary())"
      ],
      "execution_count": 47,
      "outputs": [
        {
          "output_type": "stream",
          "text": [
            "WARNING:tensorflow:Layer lstm_2 will not use cuDNN kernels since it doesn't meet the criteria. It will use a generic GPU kernel as fallback when running on GPU.\n",
            "WARNING:tensorflow:Layer lstm_2 will not use cuDNN kernels since it doesn't meet the criteria. It will use a generic GPU kernel as fallback when running on GPU.\n",
            "WARNING:tensorflow:Layer lstm_2 will not use cuDNN kernels since it doesn't meet the criteria. It will use a generic GPU kernel as fallback when running on GPU.\n",
            "Model: \"sequential_2\"\n",
            "_________________________________________________________________\n",
            "Layer (type)                 Output Shape              Param #   \n",
            "=================================================================\n",
            "embedding_2 (Embedding)      (None, 250, 100)          5000000   \n",
            "_________________________________________________________________\n",
            "spatial_dropout1d_2 (Spatial (None, 250, 100)          0         \n",
            "_________________________________________________________________\n",
            "bidirectional_1 (Bidirection (None, 200)               160800    \n",
            "_________________________________________________________________\n",
            "dense_2 (Dense)              (None, 24)                4824      \n",
            "_________________________________________________________________\n",
            "dense_3 (Dense)              (None, 5)                 125       \n",
            "=================================================================\n",
            "Total params: 5,165,749\n",
            "Trainable params: 5,165,749\n",
            "Non-trainable params: 0\n",
            "_________________________________________________________________\n",
            "None\n"
          ],
          "name": "stdout"
        }
      ]
    },
    {
      "cell_type": "code",
      "metadata": {
        "colab": {
          "base_uri": "https://localhost:8080/"
        },
        "id": "25va60iYuh0W",
        "outputId": "ebcf40b6-c9cb-4f57-aaa0-f811f8f751a1"
      },
      "source": [
        "from sklearn.utils import class_weight\n",
        "class_weights = class_weight.compute_class_weight('balanced', np.unique(data['Accident Level'].values), data['Accident Level'].values)\n",
        "weight = {i : class_weights[i] for i in range(5)}\n",
        "print(weight)\n",
        "\n",
        "epochs = 50 # Changing number of epochs\n",
        "batch_size = 24 # changing batch size \n",
        "\n",
        "history = model_bidirectional_augmented.fit(X, Y, class_weight=weight, epochs=epochs, batch_size=batch_size,validation_split=0.1)"
      ],
      "execution_count": 48,
      "outputs": [
        {
          "output_type": "stream",
          "text": [
            "{0: 0.41645569620253164, 1: 1.1855855855855857, 2: 1.3708333333333333, 3: 1.4786516853932585, 4: 2.860869565217391}\n",
            "WARNING:tensorflow:From /usr/local/lib/python3.7/dist-packages/tensorflow/python/ops/array_ops.py:5049: calling gather (from tensorflow.python.ops.array_ops) with validate_indices is deprecated and will be removed in a future version.\n",
            "Instructions for updating:\n",
            "The `validate_indices` argument has no effect. Indices are always validated on CPU and never validated on GPU.\n",
            "Epoch 1/50\n",
            "21/21 [==============================] - 78s 2s/step - loss: 1.6260 - accuracy: 0.2139 - val_loss: 1.6019 - val_accuracy: 0.1071\n",
            "Epoch 2/50\n",
            "21/21 [==============================] - 43s 2s/step - loss: 1.6217 - accuracy: 0.1549 - val_loss: 1.5840 - val_accuracy: 0.1607\n",
            "Epoch 3/50\n",
            "21/21 [==============================] - 43s 2s/step - loss: 1.4447 - accuracy: 0.1828 - val_loss: 1.3001 - val_accuracy: 0.5893\n",
            "Epoch 4/50\n",
            "21/21 [==============================] - 44s 2s/step - loss: 1.1307 - accuracy: 0.4885 - val_loss: 1.3392 - val_accuracy: 0.3571\n",
            "Epoch 5/50\n",
            "21/21 [==============================] - 43s 2s/step - loss: 0.8398 - accuracy: 0.6963 - val_loss: 1.3935 - val_accuracy: 0.4286\n",
            "Epoch 6/50\n",
            "21/21 [==============================] - 43s 2s/step - loss: 0.8272 - accuracy: 0.5803 - val_loss: 1.0423 - val_accuracy: 0.5357\n",
            "Epoch 7/50\n",
            "21/21 [==============================] - 43s 2s/step - loss: 0.6136 - accuracy: 0.8193 - val_loss: 0.9836 - val_accuracy: 0.5714\n",
            "Epoch 8/50\n",
            "21/21 [==============================] - 43s 2s/step - loss: 0.5688 - accuracy: 0.8144 - val_loss: 1.1634 - val_accuracy: 0.5893\n",
            "Epoch 9/50\n",
            "21/21 [==============================] - 43s 2s/step - loss: 0.5441 - accuracy: 0.7941 - val_loss: 1.1168 - val_accuracy: 0.6786\n",
            "Epoch 10/50\n",
            "21/21 [==============================] - 43s 2s/step - loss: 0.3205 - accuracy: 0.9499 - val_loss: 3.0088 - val_accuracy: 0.2321\n",
            "Epoch 11/50\n",
            "21/21 [==============================] - 44s 2s/step - loss: 0.9715 - accuracy: 0.4841 - val_loss: 1.3439 - val_accuracy: 0.5000\n",
            "Epoch 12/50\n",
            "21/21 [==============================] - 44s 2s/step - loss: 0.5305 - accuracy: 0.7827 - val_loss: 1.0791 - val_accuracy: 0.6071\n",
            "Epoch 13/50\n",
            "21/21 [==============================] - 44s 2s/step - loss: 0.4325 - accuracy: 0.8639 - val_loss: 1.1402 - val_accuracy: 0.6250\n",
            "Epoch 14/50\n",
            "21/21 [==============================] - 44s 2s/step - loss: 0.2560 - accuracy: 0.9614 - val_loss: 1.2037 - val_accuracy: 0.6429\n",
            "Epoch 15/50\n",
            "21/21 [==============================] - 44s 2s/step - loss: 0.2501 - accuracy: 0.9503 - val_loss: 1.2310 - val_accuracy: 0.6964\n",
            "Epoch 16/50\n",
            "21/21 [==============================] - 44s 2s/step - loss: 0.1639 - accuracy: 0.9719 - val_loss: 1.3029 - val_accuracy: 0.6607\n",
            "Epoch 17/50\n",
            "21/21 [==============================] - 44s 2s/step - loss: 0.1524 - accuracy: 0.9715 - val_loss: 1.5490 - val_accuracy: 0.6607\n",
            "Epoch 18/50\n",
            "21/21 [==============================] - 44s 2s/step - loss: 0.1221 - accuracy: 0.9759 - val_loss: 1.6217 - val_accuracy: 0.6429\n",
            "Epoch 19/50\n",
            "21/21 [==============================] - 44s 2s/step - loss: 0.1384 - accuracy: 0.9831 - val_loss: 1.7800 - val_accuracy: 0.6250\n",
            "Epoch 20/50\n",
            "21/21 [==============================] - 44s 2s/step - loss: 0.1065 - accuracy: 0.9760 - val_loss: 1.7450 - val_accuracy: 0.6071\n",
            "Epoch 21/50\n",
            "21/21 [==============================] - 44s 2s/step - loss: 0.0784 - accuracy: 0.9777 - val_loss: 1.7559 - val_accuracy: 0.6250\n",
            "Epoch 22/50\n",
            "21/21 [==============================] - 44s 2s/step - loss: 0.0689 - accuracy: 0.9808 - val_loss: 1.7827 - val_accuracy: 0.6429\n",
            "Epoch 23/50\n",
            "21/21 [==============================] - 44s 2s/step - loss: 0.0533 - accuracy: 0.9908 - val_loss: 2.1459 - val_accuracy: 0.6071\n",
            "Epoch 24/50\n",
            "21/21 [==============================] - 44s 2s/step - loss: 0.0752 - accuracy: 0.9739 - val_loss: 1.9152 - val_accuracy: 0.6429\n",
            "Epoch 25/50\n",
            "21/21 [==============================] - 44s 2s/step - loss: 0.0428 - accuracy: 0.9895 - val_loss: 1.9431 - val_accuracy: 0.6607\n",
            "Epoch 26/50\n",
            "21/21 [==============================] - 44s 2s/step - loss: 0.0705 - accuracy: 0.9721 - val_loss: 2.0962 - val_accuracy: 0.6429\n",
            "Epoch 27/50\n",
            "21/21 [==============================] - 44s 2s/step - loss: 0.0705 - accuracy: 0.9859 - val_loss: 2.0179 - val_accuracy: 0.6786\n",
            "Epoch 28/50\n",
            "21/21 [==============================] - 44s 2s/step - loss: 0.0798 - accuracy: 0.9778 - val_loss: 2.5586 - val_accuracy: 0.6607\n",
            "Epoch 29/50\n",
            "21/21 [==============================] - 44s 2s/step - loss: 0.2005 - accuracy: 0.9703 - val_loss: 2.0657 - val_accuracy: 0.6250\n",
            "Epoch 30/50\n",
            "21/21 [==============================] - 44s 2s/step - loss: 0.2846 - accuracy: 0.9285 - val_loss: 1.8948 - val_accuracy: 0.5714\n",
            "Epoch 31/50\n",
            "21/21 [==============================] - 44s 2s/step - loss: 0.2041 - accuracy: 0.9318 - val_loss: 1.8304 - val_accuracy: 0.6429\n",
            "Epoch 32/50\n",
            "21/21 [==============================] - 44s 2s/step - loss: 0.0735 - accuracy: 0.9789 - val_loss: 1.6298 - val_accuracy: 0.6786\n",
            "Epoch 33/50\n",
            "21/21 [==============================] - 44s 2s/step - loss: 0.0325 - accuracy: 0.9918 - val_loss: 1.6709 - val_accuracy: 0.6607\n",
            "Epoch 34/50\n",
            "21/21 [==============================] - 44s 2s/step - loss: 0.0317 - accuracy: 0.9920 - val_loss: 1.7742 - val_accuracy: 0.6786\n",
            "Epoch 35/50\n",
            "21/21 [==============================] - 44s 2s/step - loss: 0.0188 - accuracy: 0.9965 - val_loss: 1.8261 - val_accuracy: 0.6429\n",
            "Epoch 36/50\n",
            "21/21 [==============================] - 44s 2s/step - loss: 0.0199 - accuracy: 0.9980 - val_loss: 2.0283 - val_accuracy: 0.6786\n",
            "Epoch 37/50\n",
            "21/21 [==============================] - 44s 2s/step - loss: 0.0194 - accuracy: 0.9955 - val_loss: 1.7660 - val_accuracy: 0.7143\n",
            "Epoch 38/50\n",
            "21/21 [==============================] - 44s 2s/step - loss: 0.0252 - accuracy: 0.9948 - val_loss: 1.8565 - val_accuracy: 0.6429\n",
            "Epoch 39/50\n",
            "21/21 [==============================] - 44s 2s/step - loss: 0.3477 - accuracy: 0.7741 - val_loss: 1.3496 - val_accuracy: 0.6429\n",
            "Epoch 40/50\n",
            "21/21 [==============================] - 44s 2s/step - loss: 0.1163 - accuracy: 0.9542 - val_loss: 1.6074 - val_accuracy: 0.7143\n",
            "Epoch 41/50\n",
            "21/21 [==============================] - 44s 2s/step - loss: 0.0580 - accuracy: 0.9949 - val_loss: 1.9426 - val_accuracy: 0.6429\n",
            "Epoch 42/50\n",
            "21/21 [==============================] - 44s 2s/step - loss: 0.0343 - accuracy: 0.9904 - val_loss: 1.6963 - val_accuracy: 0.6429\n",
            "Epoch 43/50\n",
            "21/21 [==============================] - 44s 2s/step - loss: 0.0714 - accuracy: 0.9765 - val_loss: 1.5623 - val_accuracy: 0.6607\n",
            "Epoch 44/50\n",
            "21/21 [==============================] - 44s 2s/step - loss: 0.4115 - accuracy: 0.7690 - val_loss: 1.4498 - val_accuracy: 0.5893\n",
            "Epoch 45/50\n",
            "21/21 [==============================] - 44s 2s/step - loss: 0.4448 - accuracy: 0.7993 - val_loss: 1.3314 - val_accuracy: 0.6250\n",
            "Epoch 46/50\n",
            "21/21 [==============================] - 44s 2s/step - loss: 0.2601 - accuracy: 0.9111 - val_loss: 1.2284 - val_accuracy: 0.6607\n",
            "Epoch 47/50\n",
            "21/21 [==============================] - 44s 2s/step - loss: 0.2664 - accuracy: 0.9477 - val_loss: 1.5550 - val_accuracy: 0.5893\n",
            "Epoch 48/50\n",
            "21/21 [==============================] - 44s 2s/step - loss: 0.3550 - accuracy: 0.9098 - val_loss: 1.2607 - val_accuracy: 0.7143\n",
            "Epoch 49/50\n",
            "21/21 [==============================] - 44s 2s/step - loss: 0.1307 - accuracy: 0.9729 - val_loss: 1.0867 - val_accuracy: 0.7679\n",
            "Epoch 50/50\n",
            "21/21 [==============================] - 44s 2s/step - loss: 0.0804 - accuracy: 0.9879 - val_loss: 1.2410 - val_accuracy: 0.7143\n"
          ],
          "name": "stdout"
        }
      ]
    },
    {
      "cell_type": "code",
      "metadata": {
        "colab": {
          "base_uri": "https://localhost:8080/"
        },
        "id": "VsgF2HJCukD0",
        "outputId": "0e25e603-9ddb-4840-b75e-5d22dda7e7c9"
      },
      "source": [
        "\n",
        "new_incident = ['When the electrician tried to turn on the electricity, he touched the metal box (called a breaker panel), and this made a flash that hurt him. He collapsed immediately and later was rushed to the hospital.']\n",
        "seq = tokenizer.texts_to_sequences(new_incident)\n",
        "padded = pad_sequences(seq, maxlen=200)\n",
        "pred = model_bidirectional_augmented.predict(padded)\n",
        "labels = [1,2,3,4,5]\n",
        "print(\" The predicted label of the same text is {}\".format(labels[np.argmax(pred)]))"
      ],
      "execution_count": 49,
      "outputs": [
        {
          "output_type": "stream",
          "text": [
            "WARNING:tensorflow:Model was constructed with shape (None, 250) for input KerasTensor(type_spec=TensorSpec(shape=(None, 250), dtype=tf.float32, name='embedding_2_input'), name='embedding_2_input', description=\"created by layer 'embedding_2_input'\"), but it was called on an input with incompatible shape (None, 200).\n",
            " The predicted label of the same text is 5\n"
          ],
          "name": "stdout"
        }
      ]
    },
    {
      "cell_type": "code",
      "metadata": {
        "id": "g0unkkoxumRA"
      },
      "source": [
        "Y_Pred_bi_aug = model_bidirectional_augmented.predict(X_test)\n",
        "Y_Pred_bi_aug = Y_Pred_bi_aug.tolist()"
      ],
      "execution_count": 52,
      "outputs": []
    },
    {
      "cell_type": "code",
      "metadata": {
        "id": "Fy0RAhxaunr2"
      },
      "source": [
        "labels = [1,2,3,4,5]\n",
        "Y_Pred_bi_aug_arr = []\n",
        "for item in Y_Pred_bi_aug:\n",
        "  Y_Pred_bi_aug_arr.append(labels[np.argmax(item)])"
      ],
      "execution_count": 53,
      "outputs": []
    },
    {
      "cell_type": "code",
      "metadata": {
        "colab": {
          "base_uri": "https://localhost:8080/"
        },
        "id": "amvhxdn-upNh",
        "outputId": "9f991d69-3671-48b8-83e5-3aa42ad560c7"
      },
      "source": [
        "# Classficition report for LSTM with data augmentation\n",
        "from sklearn.metrics import classification_report\n",
        "\n",
        "print(classification_report(y_test, Y_Pred_bi_aug_arr))"
      ],
      "execution_count": 56,
      "outputs": [
        {
          "output_type": "stream",
          "text": [
            "              precision    recall  f1-score   support\n",
            "\n",
            "           1       0.43      0.28      0.34        46\n",
            "           2       0.08      0.18      0.11        11\n",
            "           3       0.00      0.00      0.00        17\n",
            "           4       0.16      0.33      0.21        15\n",
            "           5       0.00      0.00      0.00        10\n",
            "\n",
            "    accuracy                           0.20        99\n",
            "   macro avg       0.13      0.16      0.13        99\n",
            "weighted avg       0.23      0.20      0.20        99\n",
            "\n"
          ],
          "name": "stdout"
        }
      ]
    },
    {
      "cell_type": "markdown",
      "metadata": {
        "id": "b-eQ1WATutqJ"
      },
      "source": [
        "Observations:\n",
        "\n",
        "*   The hyper parameter tuning has not helped in the accuracy metrics for the model\n",
        "*   The various types of hyper paramters that were tuned were <br>\n",
        "1) Structure of the model <br>\n",
        "2) number of batches <br>\n",
        "3) number of epochs <br>\n",
        "*   The Bidirectional LSTM model was used for the chatbot \n",
        "\n",
        "\n",
        "\n"
      ]
    },
    {
      "cell_type": "code",
      "metadata": {
        "id": "ELkFJZGL3t3u"
      },
      "source": [
        ""
      ],
      "execution_count": null,
      "outputs": []
    }
  ]
}